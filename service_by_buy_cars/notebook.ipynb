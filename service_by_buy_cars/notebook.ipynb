{
 "cells": [
  {
   "cell_type": "markdown",
   "metadata": {
    "toc": true
   },
   "source": [
    "<h1>Содержание<span class=\"tocSkip\"></span></h1>\n",
    "<div class=\"toc\"><ul class=\"toc-item\"><li><span><a href=\"#Задание\" data-toc-modified-id=\"Задание-1\"><span class=\"toc-item-num\">1&nbsp;&nbsp;</span>Задание</a></span><ul class=\"toc-item\"><li><span><a href=\"#Описание-данных\" data-toc-modified-id=\"Описание-данных-1.1\"><span class=\"toc-item-num\">1.1&nbsp;&nbsp;</span>Описание данных</a></span></li></ul></li><li><span><a href=\"#Подключение-библиотек\" data-toc-modified-id=\"Подключение-библиотек-2\"><span class=\"toc-item-num\">2&nbsp;&nbsp;</span>Подключение библиотек</a></span></li><li><span><a href=\"#Подготовка-данных\" data-toc-modified-id=\"Подготовка-данных-3\"><span class=\"toc-item-num\">3&nbsp;&nbsp;</span>Подготовка данных</a></span><ul class=\"toc-item\"><li><span><a href=\"#Загрузка-данных\" data-toc-modified-id=\"Загрузка-данных-3.1\"><span class=\"toc-item-num\">3.1&nbsp;&nbsp;</span>Загрузка данных</a></span><ul class=\"toc-item\"><li><span><a href=\"#Вывод\" data-toc-modified-id=\"Вывод-3.1.1\"><span class=\"toc-item-num\">3.1.1&nbsp;&nbsp;</span>Вывод</a></span></li></ul></li><li><span><a href=\"#Обработка-пропусков\" data-toc-modified-id=\"Обработка-пропусков-3.2\"><span class=\"toc-item-num\">3.2&nbsp;&nbsp;</span>Обработка пропусков</a></span><ul class=\"toc-item\"><li><span><a href=\"#Поля-VehicleType,-Gearbox,-Model,-FuelType\" data-toc-modified-id=\"Поля-VehicleType,-Gearbox,-Model,-FuelType-3.2.1\"><span class=\"toc-item-num\">3.2.1&nbsp;&nbsp;</span>Поля VehicleType, Gearbox, Model, FuelType</a></span><ul class=\"toc-item\"><li><span><a href=\"#Подготовка-данных\" data-toc-modified-id=\"Подготовка-данных-3.2.1.1\"><span class=\"toc-item-num\">3.2.1.1&nbsp;&nbsp;</span>Подготовка данных</a></span></li><li><span><a href=\"#Поле-VehicleType\" data-toc-modified-id=\"Поле-VehicleType-3.2.1.2\"><span class=\"toc-item-num\">3.2.1.2&nbsp;&nbsp;</span>Поле VehicleType</a></span></li><li><span><a href=\"#Поле-Gearbox\" data-toc-modified-id=\"Поле-Gearbox-3.2.1.3\"><span class=\"toc-item-num\">3.2.1.3&nbsp;&nbsp;</span>Поле Gearbox</a></span></li><li><span><a href=\"#Поле-Model\" data-toc-modified-id=\"Поле-Model-3.2.1.4\"><span class=\"toc-item-num\">3.2.1.4&nbsp;&nbsp;</span>Поле Model</a></span></li><li><span><a href=\"#Поле-FuelType\" data-toc-modified-id=\"Поле-FuelType-3.2.1.5\"><span class=\"toc-item-num\">3.2.1.5&nbsp;&nbsp;</span>Поле FuelType</a></span></li><li><span><a href=\"#Поле-NotRepaired\" data-toc-modified-id=\"Поле-NotRepaired-3.2.1.6\"><span class=\"toc-item-num\">3.2.1.6&nbsp;&nbsp;</span>Поле NotRepaired</a></span></li><li><span><a href=\"#Проверка\" data-toc-modified-id=\"Проверка-3.2.1.7\"><span class=\"toc-item-num\">3.2.1.7&nbsp;&nbsp;</span>Проверка</a></span></li></ul></li></ul></li><li><span><a href=\"#Привидение-типов\" data-toc-modified-id=\"Привидение-типов-3.3\"><span class=\"toc-item-num\">3.3&nbsp;&nbsp;</span>Привидение типов</a></span></li><li><span><a href=\"#Предварительное-кодирование-признаков\" data-toc-modified-id=\"Предварительное-кодирование-признаков-3.4\"><span class=\"toc-item-num\">3.4&nbsp;&nbsp;</span>Предварительное кодирование признаков</a></span></li><li><span><a href=\"#Поле-Price\" data-toc-modified-id=\"Поле-Price-3.5\"><span class=\"toc-item-num\">3.5&nbsp;&nbsp;</span>Поле Price</a></span><ul class=\"toc-item\"><li><span><a href=\"#Вывод\" data-toc-modified-id=\"Вывод-3.5.1\"><span class=\"toc-item-num\">3.5.1&nbsp;&nbsp;</span>Вывод</a></span></li></ul></li><li><span><a href=\"#Обработка-полей-не-влияющих-на-цену\" data-toc-modified-id=\"Обработка-полей-не-влияющих-на-цену-3.6\"><span class=\"toc-item-num\">3.6&nbsp;&nbsp;</span>Обработка полей не влияющих на цену</a></span></li><li><span><a href=\"#Обработка-полей-влияющих-на-цену\" data-toc-modified-id=\"Обработка-полей-влияющих-на-цену-3.7\"><span class=\"toc-item-num\">3.7&nbsp;&nbsp;</span>Обработка полей влияющих на цену</a></span><ul class=\"toc-item\"><li><span><a href=\"#Поле-Power\" data-toc-modified-id=\"Поле-Power-3.7.1\"><span class=\"toc-item-num\">3.7.1&nbsp;&nbsp;</span>Поле Power</a></span></li><li><span><a href=\"#Поле-Kilometer\" data-toc-modified-id=\"Поле-Kilometer-3.7.2\"><span class=\"toc-item-num\">3.7.2&nbsp;&nbsp;</span>Поле Kilometer</a></span></li><li><span><a href=\"#Вывод\" data-toc-modified-id=\"Вывод-3.7.3\"><span class=\"toc-item-num\">3.7.3&nbsp;&nbsp;</span>Вывод</a></span></li></ul></li></ul></li><li><span><a href=\"#Обучение-моделей\" data-toc-modified-id=\"Обучение-моделей-4\"><span class=\"toc-item-num\">4&nbsp;&nbsp;</span>Обучение моделей</a></span><ul class=\"toc-item\"><li><span><a href=\"#Масштабирование-признаков\" data-toc-modified-id=\"Масштабирование-признаков-4.1\"><span class=\"toc-item-num\">4.1&nbsp;&nbsp;</span>Масштабирование признаков</a></span></li></ul></li><li><span><a href=\"#Обучение-градиентного-бустинга\" data-toc-modified-id=\"Обучение-градиентного-бустинга-5\"><span class=\"toc-item-num\">5&nbsp;&nbsp;</span>Обучение градиентного бустинга</a></span><ul class=\"toc-item\"><li><span><a href=\"#Кодирование-признаков\" data-toc-modified-id=\"Кодирование-признаков-5.1\"><span class=\"toc-item-num\">5.1&nbsp;&nbsp;</span>Кодирование признаков</a></span></li><li><span><a href=\"#Обучение-модели\" data-toc-modified-id=\"Обучение-модели-5.2\"><span class=\"toc-item-num\">5.2&nbsp;&nbsp;</span>Обучение модели</a></span></li></ul></li><li><span><a href=\"#Обучение-других-моделей\" data-toc-modified-id=\"Обучение-других-моделей-6\"><span class=\"toc-item-num\">6&nbsp;&nbsp;</span>Обучение других моделей</a></span><ul class=\"toc-item\"><li><span><a href=\"#Кодирование-признаков\" data-toc-modified-id=\"Кодирование-признаков-6.1\"><span class=\"toc-item-num\">6.1&nbsp;&nbsp;</span>Кодирование признаков</a></span><ul class=\"toc-item\"><li><span><a href=\"#Вывод\" data-toc-modified-id=\"Вывод-6.1.1\"><span class=\"toc-item-num\">6.1.1&nbsp;&nbsp;</span>Вывод</a></span></li></ul></li><li><span><a href=\"#Простой-регрессор\" data-toc-modified-id=\"Простой-регрессор-6.2\"><span class=\"toc-item-num\">6.2&nbsp;&nbsp;</span>Простой регрессор</a></span></li><li><span><a href=\"#Линейная-регрессия\" data-toc-modified-id=\"Линейная-регрессия-6.3\"><span class=\"toc-item-num\">6.3&nbsp;&nbsp;</span>Линейная регрессия</a></span></li><li><span><a href=\"#Решающие-дерево\" data-toc-modified-id=\"Решающие-дерево-6.4\"><span class=\"toc-item-num\">6.4&nbsp;&nbsp;</span>Решающие дерево</a></span></li></ul></li><li><span><a href=\"#Анализ-моделей\" data-toc-modified-id=\"Анализ-моделей-7\"><span class=\"toc-item-num\">7&nbsp;&nbsp;</span>Анализ моделей</a></span><ul class=\"toc-item\"><li><span><a href=\"#Качество-на-обучающей-выборки\" data-toc-modified-id=\"Качество-на-обучающей-выборки-7.1\"><span class=\"toc-item-num\">7.1&nbsp;&nbsp;</span>Качество на обучающей выборки</a></span></li><li><span><a href=\"#Качество-на-тестовой--выборки\" data-toc-modified-id=\"Качество-на-тестовой--выборки-7.2\"><span class=\"toc-item-num\">7.2&nbsp;&nbsp;</span>Качество на тестовой  выборки</a></span></li><li><span><a href=\"#Время-обучения\" data-toc-modified-id=\"Время-обучения-7.3\"><span class=\"toc-item-num\">7.3&nbsp;&nbsp;</span>Время обучения</a></span></li><li><span><a href=\"#Время-предсказания\" data-toc-modified-id=\"Время-предсказания-7.4\"><span class=\"toc-item-num\">7.4&nbsp;&nbsp;</span>Время предсказания</a></span></li></ul></li><li><span><a href=\"#Заключение\" data-toc-modified-id=\"Заключение-8\"><span class=\"toc-item-num\">8&nbsp;&nbsp;</span>Заключение</a></span></li><li><span><a href=\"#Чек-лист-проверки\" data-toc-modified-id=\"Чек-лист-проверки-9\"><span class=\"toc-item-num\">9&nbsp;&nbsp;</span>Чек-лист проверки</a></span></li></ul></div>"
   ]
  },
  {
   "cell_type": "markdown",
   "metadata": {},
   "source": [
    "# Сервис по продаже автомобилей с пробегом"
   ]
  },
  {
   "cell_type": "markdown",
   "metadata": {},
   "source": [
    "## Задание"
   ]
  },
  {
   "cell_type": "markdown",
   "metadata": {},
   "source": [
    "По историческим данным определить рыночную стоимость автомобиля.\n",
    "\n",
    "Заказчику важны:\n",
    "\n",
    "- качество предсказания;\n",
    "- скорость предсказания;\n",
    "- время обучения."
   ]
  },
  {
   "cell_type": "markdown",
   "metadata": {},
   "source": [
    "### Описание данных "
   ]
  },
  {
   "cell_type": "markdown",
   "metadata": {},
   "source": [
    "- **DateCrawled** — дата скачивания анкеты из базы\n",
    "- **VehicleType** — тип автомобильного кузова\n",
    "- **RegistrationYear** — год регистрации автомобиля\n",
    "- **Gearbox** — тип коробки передач\n",
    "- **Power** — мощность (л. с.)\n",
    "- **Model** — модель автомобиля\n",
    "- **Kilometer** — пробег (км)\n",
    "- **RegistrationMonth** — месяц регистрации автомобиля\n",
    "- **FuelType** — тип топлива\n",
    "- **Brand** — марка автомобиля\n",
    "- **NotRepaired** — была машина в ремонте или нет\n",
    "- **DateCreated** — дата создания анкеты\n",
    "- **NumberOfPictures** — количество фотографий автомобиля\n",
    "- **PostalCode** — почтовый индекс владельца анкеты (пользователя)\n",
    "- **LastSeen** — дата последней активности пользователя"
   ]
  },
  {
   "cell_type": "markdown",
   "metadata": {},
   "source": [
    "\n",
    "Целевой признак\n",
    "\n",
    "\n",
    "- **Price** — цена (евро)"
   ]
  },
  {
   "cell_type": "markdown",
   "metadata": {},
   "source": [
    "## Подключение библиотек "
   ]
  },
  {
   "cell_type": "code",
   "execution_count": 1,
   "metadata": {},
   "outputs": [
    {
     "name": "stdout",
     "output_type": "stream",
     "text": [
      "Defaulting to user installation because normal site-packages is not writeable\n",
      "Requirement already up-to-date: seaborn in /home/jovyan/.local/lib/python3.7/site-packages (0.11.1)\n",
      "Requirement already satisfied, skipping upgrade: scipy>=1.0 in /opt/conda/lib/python3.7/site-packages (from seaborn) (1.4.1)\n",
      "Requirement already satisfied, skipping upgrade: numpy>=1.15 in /opt/conda/lib/python3.7/site-packages (from seaborn) (1.19.5)\n",
      "Requirement already satisfied, skipping upgrade: matplotlib>=2.2 in /opt/conda/lib/python3.7/site-packages (from seaborn) (3.1.0)\n",
      "Requirement already satisfied, skipping upgrade: pandas>=0.23 in /opt/conda/lib/python3.7/site-packages (from seaborn) (0.25.1)\n",
      "Requirement already satisfied, skipping upgrade: pyparsing!=2.0.4,!=2.1.2,!=2.1.6,>=2.0.1 in /opt/conda/lib/python3.7/site-packages (from matplotlib>=2.2->seaborn) (2.4.7)\n",
      "Requirement already satisfied, skipping upgrade: cycler>=0.10 in /opt/conda/lib/python3.7/site-packages (from matplotlib>=2.2->seaborn) (0.10.0)\n",
      "Requirement already satisfied, skipping upgrade: kiwisolver>=1.0.1 in /opt/conda/lib/python3.7/site-packages (from matplotlib>=2.2->seaborn) (1.3.1)\n",
      "Requirement already satisfied, skipping upgrade: python-dateutil>=2.1 in /opt/conda/lib/python3.7/site-packages (from matplotlib>=2.2->seaborn) (2.8.1)\n",
      "Requirement already satisfied, skipping upgrade: pytz>=2017.2 in /opt/conda/lib/python3.7/site-packages (from pandas>=0.23->seaborn) (2021.1)\n",
      "Requirement already satisfied, skipping upgrade: six in /opt/conda/lib/python3.7/site-packages (from cycler>=0.10->matplotlib>=2.2->seaborn) (1.15.0)\n"
     ]
    }
   ],
   "source": [
    "import pandas as pd\n",
    "import time\n",
    "import warnings\n",
    "\n",
    "warnings.filterwarnings('ignore')\n",
    "\n",
    "\n",
    "!pip install seaborn -U\n",
    "import seaborn as sns\n",
    "import matplotlib.pyplot as plt\n",
    "import numpy as np\n",
    "import datetime as dt\n",
    "\n",
    "from sklearn.model_selection import train_test_split\n",
    "\n",
    "from sklearn.preprocessing import LabelEncoder\n",
    "from sklearn.preprocessing import OrdinalEncoder\n",
    "from sklearn.preprocessing import OneHotEncoder\n",
    "from sklearn.preprocessing import MinMaxScaler\n",
    "\n",
    "from sklearn.feature_selection import SelectKBest\n",
    "from sklearn.feature_selection import f_regression\n",
    "\n",
    "from sklearn.ensemble import RandomForestClassifier\n",
    "\n",
    "from sklearn.model_selection import GridSearchCV\n",
    "\n",
    "from sklearn.tree import DecisionTreeRegressor\n",
    "from sklearn.linear_model import LinearRegression\n",
    "from sklearn.dummy import DummyRegressor\n",
    "\n",
    "from lightgbm import LGBMRegressor\n",
    "\n",
    "from sklearn.metrics import accuracy_score\n",
    "from sklearn.metrics import mean_squared_error\n",
    "from sklearn.metrics import fbeta_score, make_scorer"
   ]
  },
  {
   "cell_type": "markdown",
   "metadata": {},
   "source": [
    "## Подготовка данных"
   ]
  },
  {
   "cell_type": "markdown",
   "metadata": {},
   "source": [
    "### Загрузка данных"
   ]
  },
  {
   "cell_type": "code",
   "execution_count": 2,
   "metadata": {},
   "outputs": [],
   "source": [
    "data = pd.read_csv('/datasets/autos.csv')"
   ]
  },
  {
   "cell_type": "code",
   "execution_count": 3,
   "metadata": {},
   "outputs": [
    {
     "name": "stdout",
     "output_type": "stream",
     "text": [
      "<class 'pandas.core.frame.DataFrame'>\n",
      "RangeIndex: 354369 entries, 0 to 354368\n",
      "Data columns (total 16 columns):\n",
      "DateCrawled          354369 non-null object\n",
      "Price                354369 non-null int64\n",
      "VehicleType          316879 non-null object\n",
      "RegistrationYear     354369 non-null int64\n",
      "Gearbox              334536 non-null object\n",
      "Power                354369 non-null int64\n",
      "Model                334664 non-null object\n",
      "Kilometer            354369 non-null int64\n",
      "RegistrationMonth    354369 non-null int64\n",
      "FuelType             321474 non-null object\n",
      "Brand                354369 non-null object\n",
      "NotRepaired          283215 non-null object\n",
      "DateCreated          354369 non-null object\n",
      "NumberOfPictures     354369 non-null int64\n",
      "PostalCode           354369 non-null int64\n",
      "LastSeen             354369 non-null object\n",
      "dtypes: int64(7), object(9)\n",
      "memory usage: 43.3+ MB\n"
     ]
    }
   ],
   "source": [
    "data.info()"
   ]
  },
  {
   "cell_type": "code",
   "execution_count": 4,
   "metadata": {},
   "outputs": [
    {
     "data": {
      "text/html": [
       "<div>\n",
       "<style scoped>\n",
       "    .dataframe tbody tr th:only-of-type {\n",
       "        vertical-align: middle;\n",
       "    }\n",
       "\n",
       "    .dataframe tbody tr th {\n",
       "        vertical-align: top;\n",
       "    }\n",
       "\n",
       "    .dataframe thead th {\n",
       "        text-align: right;\n",
       "    }\n",
       "</style>\n",
       "<table border=\"1\" class=\"dataframe\">\n",
       "  <thead>\n",
       "    <tr style=\"text-align: right;\">\n",
       "      <th></th>\n",
       "      <th>DateCrawled</th>\n",
       "      <th>Price</th>\n",
       "      <th>VehicleType</th>\n",
       "      <th>RegistrationYear</th>\n",
       "      <th>Gearbox</th>\n",
       "      <th>Power</th>\n",
       "      <th>Model</th>\n",
       "      <th>Kilometer</th>\n",
       "      <th>RegistrationMonth</th>\n",
       "      <th>FuelType</th>\n",
       "      <th>Brand</th>\n",
       "      <th>NotRepaired</th>\n",
       "      <th>DateCreated</th>\n",
       "      <th>NumberOfPictures</th>\n",
       "      <th>PostalCode</th>\n",
       "      <th>LastSeen</th>\n",
       "    </tr>\n",
       "  </thead>\n",
       "  <tbody>\n",
       "    <tr>\n",
       "      <td>0</td>\n",
       "      <td>2016-03-24 11:52:17</td>\n",
       "      <td>480</td>\n",
       "      <td>NaN</td>\n",
       "      <td>1993</td>\n",
       "      <td>manual</td>\n",
       "      <td>0</td>\n",
       "      <td>golf</td>\n",
       "      <td>150000</td>\n",
       "      <td>0</td>\n",
       "      <td>petrol</td>\n",
       "      <td>volkswagen</td>\n",
       "      <td>NaN</td>\n",
       "      <td>2016-03-24 00:00:00</td>\n",
       "      <td>0</td>\n",
       "      <td>70435</td>\n",
       "      <td>2016-04-07 03:16:57</td>\n",
       "    </tr>\n",
       "    <tr>\n",
       "      <td>1</td>\n",
       "      <td>2016-03-24 10:58:45</td>\n",
       "      <td>18300</td>\n",
       "      <td>coupe</td>\n",
       "      <td>2011</td>\n",
       "      <td>manual</td>\n",
       "      <td>190</td>\n",
       "      <td>NaN</td>\n",
       "      <td>125000</td>\n",
       "      <td>5</td>\n",
       "      <td>gasoline</td>\n",
       "      <td>audi</td>\n",
       "      <td>yes</td>\n",
       "      <td>2016-03-24 00:00:00</td>\n",
       "      <td>0</td>\n",
       "      <td>66954</td>\n",
       "      <td>2016-04-07 01:46:50</td>\n",
       "    </tr>\n",
       "    <tr>\n",
       "      <td>2</td>\n",
       "      <td>2016-03-14 12:52:21</td>\n",
       "      <td>9800</td>\n",
       "      <td>suv</td>\n",
       "      <td>2004</td>\n",
       "      <td>auto</td>\n",
       "      <td>163</td>\n",
       "      <td>grand</td>\n",
       "      <td>125000</td>\n",
       "      <td>8</td>\n",
       "      <td>gasoline</td>\n",
       "      <td>jeep</td>\n",
       "      <td>NaN</td>\n",
       "      <td>2016-03-14 00:00:00</td>\n",
       "      <td>0</td>\n",
       "      <td>90480</td>\n",
       "      <td>2016-04-05 12:47:46</td>\n",
       "    </tr>\n",
       "    <tr>\n",
       "      <td>3</td>\n",
       "      <td>2016-03-17 16:54:04</td>\n",
       "      <td>1500</td>\n",
       "      <td>small</td>\n",
       "      <td>2001</td>\n",
       "      <td>manual</td>\n",
       "      <td>75</td>\n",
       "      <td>golf</td>\n",
       "      <td>150000</td>\n",
       "      <td>6</td>\n",
       "      <td>petrol</td>\n",
       "      <td>volkswagen</td>\n",
       "      <td>no</td>\n",
       "      <td>2016-03-17 00:00:00</td>\n",
       "      <td>0</td>\n",
       "      <td>91074</td>\n",
       "      <td>2016-03-17 17:40:17</td>\n",
       "    </tr>\n",
       "    <tr>\n",
       "      <td>4</td>\n",
       "      <td>2016-03-31 17:25:20</td>\n",
       "      <td>3600</td>\n",
       "      <td>small</td>\n",
       "      <td>2008</td>\n",
       "      <td>manual</td>\n",
       "      <td>69</td>\n",
       "      <td>fabia</td>\n",
       "      <td>90000</td>\n",
       "      <td>7</td>\n",
       "      <td>gasoline</td>\n",
       "      <td>skoda</td>\n",
       "      <td>no</td>\n",
       "      <td>2016-03-31 00:00:00</td>\n",
       "      <td>0</td>\n",
       "      <td>60437</td>\n",
       "      <td>2016-04-06 10:17:21</td>\n",
       "    </tr>\n",
       "  </tbody>\n",
       "</table>\n",
       "</div>"
      ],
      "text/plain": [
       "           DateCrawled  Price VehicleType  RegistrationYear Gearbox  Power  \\\n",
       "0  2016-03-24 11:52:17    480         NaN              1993  manual      0   \n",
       "1  2016-03-24 10:58:45  18300       coupe              2011  manual    190   \n",
       "2  2016-03-14 12:52:21   9800         suv              2004    auto    163   \n",
       "3  2016-03-17 16:54:04   1500       small              2001  manual     75   \n",
       "4  2016-03-31 17:25:20   3600       small              2008  manual     69   \n",
       "\n",
       "   Model  Kilometer  RegistrationMonth  FuelType       Brand NotRepaired  \\\n",
       "0   golf     150000                  0    petrol  volkswagen         NaN   \n",
       "1    NaN     125000                  5  gasoline        audi         yes   \n",
       "2  grand     125000                  8  gasoline        jeep         NaN   \n",
       "3   golf     150000                  6    petrol  volkswagen          no   \n",
       "4  fabia      90000                  7  gasoline       skoda          no   \n",
       "\n",
       "           DateCreated  NumberOfPictures  PostalCode             LastSeen  \n",
       "0  2016-03-24 00:00:00                 0       70435  2016-04-07 03:16:57  \n",
       "1  2016-03-24 00:00:00                 0       66954  2016-04-07 01:46:50  \n",
       "2  2016-03-14 00:00:00                 0       90480  2016-04-05 12:47:46  \n",
       "3  2016-03-17 00:00:00                 0       91074  2016-03-17 17:40:17  \n",
       "4  2016-03-31 00:00:00                 0       60437  2016-04-06 10:17:21  "
      ]
     },
     "execution_count": 4,
     "metadata": {},
     "output_type": "execute_result"
    }
   ],
   "source": [
    "data.head()"
   ]
  },
  {
   "cell_type": "markdown",
   "metadata": {},
   "source": [
    "#### Вывод"
   ]
  },
  {
   "cell_type": "markdown",
   "metadata": {},
   "source": [
    "Пропуски содержаться в следующих полях:\n",
    "- VehicleType\n",
    "- Gearbox\n",
    "- Model\n",
    "- FuelType\n",
    "- NotRepaired"
   ]
  },
  {
   "cell_type": "markdown",
   "metadata": {},
   "source": [
    "Неправильный тип данных у следующих полей:\n",
    "\n",
    "- DateCrawled - **date**\n",
    "- NotRepaired - **bool**\n",
    "- DateCreated - **date**\n",
    "- LastSeen    - **date**"
   ]
  },
  {
   "cell_type": "markdown",
   "metadata": {},
   "source": [
    "### Обработка пропусков "
   ]
  },
  {
   "cell_type": "markdown",
   "metadata": {},
   "source": [
    "#### Поля VehicleType, Gearbox, Model, FuelType "
   ]
  },
  {
   "cell_type": "markdown",
   "metadata": {},
   "source": [
    "Ясно, что эти поля влияют друг на друга, заполним их методом случайного леса."
   ]
  },
  {
   "cell_type": "markdown",
   "metadata": {},
   "source": [
    "##### Подготовка данных "
   ]
  },
  {
   "cell_type": "code",
   "execution_count": 5,
   "metadata": {},
   "outputs": [],
   "source": [
    "colums4fill = ['VehicleType','Gearbox','Model','FuelType','Brand']"
   ]
  },
  {
   "cell_type": "code",
   "execution_count": 6,
   "metadata": {},
   "outputs": [],
   "source": [
    "def present(count__x_percent, count_100_percent = len(data)):\n",
    "    if count__x_percent == 0:\n",
    "        return 0\n",
    "    return 100/ (count_100_percent / count__x_percent)"
   ]
  },
  {
   "cell_type": "code",
   "execution_count": 7,
   "metadata": {},
   "outputs": [],
   "source": [
    "def split_x_y(data, column):\n",
    "    x = data.drop(column, axis=1)\n",
    "    y = data[column]\n",
    "    return x, y"
   ]
  },
  {
   "cell_type": "code",
   "execution_count": 8,
   "metadata": {},
   "outputs": [],
   "source": [
    "class DataFiller:\n",
    "    model = 0\n",
    "    col_target = 0\n",
    "    cols_train = 0\n",
    "    data = 0\n",
    "    lbEncoder = 0\n",
    "    \n",
    "    df_train_x = 0\n",
    "    df_train_y = 0\n",
    "    \n",
    "    def __init__(self, data, col_target):\n",
    "        self.data = data.dropna()\n",
    "        self.col_target = col_target\n",
    "   \n",
    "    \n",
    "    def my_train_test_split(self):\n",
    "        df_train, df_test = train_test_split(self.data, test_size=0.25, random_state=12345)\n",
    "    \n",
    "        df_train_x, df_train_y = split_x_y(df_train, self.col_target)\n",
    "        df_test_x, df_test_y = split_x_y(df_test, self.col_target)\n",
    "    \n",
    "        return df_train_x, df_train_y, df_test_x, df_test_y\n",
    "    \n",
    "    def labels_encoder(self):\n",
    "        self.lbEncoder = LabelEncoder()\n",
    "        self.lbEncoder.fit(self.data[self.col_target])\n",
    "        self.df_train_y = self.lbEncoder.transform(self.df_train_y)\n",
    "        \n",
    "\n",
    "    def train(self, max_depth):\n",
    "        \n",
    "        self.df_train_x, self.df_train_y, df_test_x, df_test_y =     self.my_train_test_split()\n",
    "        self.cols_train = self.df_train_x.columns\n",
    "        \n",
    "        self.labels_encoder()    \n",
    "     \n",
    "        self.df_train_x = pd.get_dummies(self.df_train_x, drop_first=True)\n",
    "        \n",
    "        self.model = RandomForestClassifier(max_depth=max_depth, random_state=0)\n",
    "        self.model.fit(self.df_train_x, self.df_train_y)\n",
    "        \n",
    "        predicts = self.predict(df_test_x)\n",
    "        predicts = self.lbEncoder.transform(predicts)\n",
    "        \n",
    "        df_test_y = self.lbEncoder.transform(df_test_y)\n",
    "        \n",
    "        return accuracy_score(predicts, df_test_y)\n",
    "    \n",
    "    def do_same_columns(self, train, test ):\n",
    "        missing_cols = set( train.columns ) - set( test.columns )\n",
    "        for c in missing_cols:\n",
    "            test[c] = 0\n",
    "        test = test[train.columns]\n",
    "        return test\n",
    "    \n",
    "    def predict(self,df_test_x):\n",
    "        df_test_x = pd.get_dummies(df_test_x, drop_first=True)\n",
    "        df_test_x = self.do_same_columns(self.df_train_x, df_test_x)\n",
    "        \n",
    "        if len(df_test_x) == 0:\n",
    "            return []\n",
    "        \n",
    "        \n",
    "        predicts =  self.model.predict(df_test_x)\n",
    "        return self.lbEncoder.inverse_transform(predicts)\n",
    "    \n",
    "    def prepare_for_filling(self, data):\n",
    "        data_pred = data[data[self.col_target].isna()]\n",
    "        data_pred = data_pred[self.cols_train]\n",
    "        return data_pred.dropna()"
   ]
  },
  {
   "cell_type": "code",
   "execution_count": 9,
   "metadata": {},
   "outputs": [],
   "source": [
    "def do_filling(dataFiller):\n",
    "    data_pred = dataFiller.prepare_for_filling(data)\n",
    "    predicts = dataFiller.predict(data_pred)\n",
    "    data.loc[data_pred.index, dataFiller.col_target] = predicts\n",
    "    \n",
    "    print('Поле', dataFiller.col_target)\n",
    "    print('Осталось пустых значений:', data[dataFiller.col_target].isna().sum())\n",
    "    print('Осталось пустых значений в %:', present(data[dataFiller.col_target].isna().sum(), len(data)))"
   ]
  },
  {
   "cell_type": "markdown",
   "metadata": {},
   "source": [
    "##### Поле VehicleType"
   ]
  },
  {
   "cell_type": "code",
   "execution_count": 10,
   "metadata": {},
   "outputs": [
    {
     "data": {
      "text/plain": [
       "37490"
      ]
     },
     "execution_count": 10,
     "metadata": {},
     "output_type": "execute_result"
    }
   ],
   "source": [
    "data['VehicleType'].isna().sum()"
   ]
  },
  {
   "cell_type": "code",
   "execution_count": 11,
   "metadata": {},
   "outputs": [],
   "source": [
    "dataFiller = DataFiller(data[colums4fill], 'VehicleType' )"
   ]
  },
  {
   "cell_type": "code",
   "execution_count": 12,
   "metadata": {},
   "outputs": [],
   "source": [
    "accuracy = dataFiller.train(30)"
   ]
  },
  {
   "cell_type": "code",
   "execution_count": 13,
   "metadata": {},
   "outputs": [
    {
     "data": {
      "text/plain": [
       "0.6426540150917897"
      ]
     },
     "execution_count": 13,
     "metadata": {},
     "output_type": "execute_result"
    }
   ],
   "source": [
    "accuracy"
   ]
  },
  {
   "cell_type": "code",
   "execution_count": 14,
   "metadata": {},
   "outputs": [
    {
     "name": "stdout",
     "output_type": "stream",
     "text": [
      "Поле VehicleType\n",
      "Осталось пустых значений: 22388\n",
      "Осталось пустых значений в %: 6.317708377425791\n"
     ]
    }
   ],
   "source": [
    "do_filling(dataFiller)"
   ]
  },
  {
   "cell_type": "markdown",
   "metadata": {},
   "source": [
    "Попробуем понизить количество признаков используемых для предсказания "
   ]
  },
  {
   "cell_type": "code",
   "execution_count": 15,
   "metadata": {},
   "outputs": [],
   "source": [
    "dataFiller = DataFiller(data[['Model','Brand','VehicleType']], 'VehicleType' )"
   ]
  },
  {
   "cell_type": "code",
   "execution_count": 16,
   "metadata": {},
   "outputs": [],
   "source": [
    "accuracy = dataFiller.train(30)"
   ]
  },
  {
   "cell_type": "code",
   "execution_count": 17,
   "metadata": {},
   "outputs": [
    {
     "data": {
      "text/plain": [
       "0.6251253509827517"
      ]
     },
     "execution_count": 17,
     "metadata": {},
     "output_type": "execute_result"
    }
   ],
   "source": [
    "accuracy"
   ]
  },
  {
   "cell_type": "code",
   "execution_count": 18,
   "metadata": {},
   "outputs": [
    {
     "name": "stdout",
     "output_type": "stream",
     "text": [
      "Поле VehicleType\n",
      "Осталось пустых значений: 6828\n",
      "Осталось пустых значений в %: 1.9268051099277872\n"
     ]
    }
   ],
   "source": [
    "do_filling(dataFiller)"
   ]
  },
  {
   "cell_type": "markdown",
   "metadata": {},
   "source": [
    "Заполним остаток служебным словом "
   ]
  },
  {
   "cell_type": "code",
   "execution_count": 19,
   "metadata": {},
   "outputs": [
    {
     "data": {
      "text/plain": [
       "array(['sedan', 'coupe', 'suv', 'small', 'convertible', 'bus', 'wagon',\n",
       "       'other', nan], dtype=object)"
      ]
     },
     "execution_count": 19,
     "metadata": {},
     "output_type": "execute_result"
    }
   ],
   "source": [
    "data['VehicleType'].unique()"
   ]
  },
  {
   "cell_type": "code",
   "execution_count": 20,
   "metadata": {},
   "outputs": [],
   "source": [
    "data['VehicleType'].fillna('other', inplace=True)"
   ]
  },
  {
   "cell_type": "code",
   "execution_count": 21,
   "metadata": {},
   "outputs": [
    {
     "data": {
      "text/plain": [
       "0"
      ]
     },
     "execution_count": 21,
     "metadata": {},
     "output_type": "execute_result"
    }
   ],
   "source": [
    "data['VehicleType'].isna().sum()"
   ]
  },
  {
   "cell_type": "code",
   "execution_count": 22,
   "metadata": {},
   "outputs": [
    {
     "data": {
      "text/plain": [
       "array(['sedan', 'coupe', 'suv', 'small', 'convertible', 'bus', 'wagon',\n",
       "       'other'], dtype=object)"
      ]
     },
     "execution_count": 22,
     "metadata": {},
     "output_type": "execute_result"
    }
   ],
   "source": [
    "data['VehicleType'].unique()"
   ]
  },
  {
   "cell_type": "markdown",
   "metadata": {},
   "source": [
    "##### Поле Gearbox"
   ]
  },
  {
   "cell_type": "code",
   "execution_count": 23,
   "metadata": {},
   "outputs": [
    {
     "data": {
      "text/plain": [
       "19833"
      ]
     },
     "execution_count": 23,
     "metadata": {},
     "output_type": "execute_result"
    }
   ],
   "source": [
    "data['Gearbox'].isna().sum()"
   ]
  },
  {
   "cell_type": "code",
   "execution_count": 24,
   "metadata": {},
   "outputs": [],
   "source": [
    "dataFiller = DataFiller(data[colums4fill], 'Gearbox' )"
   ]
  },
  {
   "cell_type": "code",
   "execution_count": 25,
   "metadata": {},
   "outputs": [],
   "source": [
    "accuracy = dataFiller.train(30)"
   ]
  },
  {
   "cell_type": "code",
   "execution_count": 26,
   "metadata": {},
   "outputs": [
    {
     "data": {
      "text/plain": [
       "0.8547328458566712"
      ]
     },
     "execution_count": 26,
     "metadata": {},
     "output_type": "execute_result"
    }
   ],
   "source": [
    "accuracy"
   ]
  },
  {
   "cell_type": "code",
   "execution_count": 27,
   "metadata": {},
   "outputs": [
    {
     "name": "stdout",
     "output_type": "stream",
     "text": [
      "Поле Gearbox\n",
      "Осталось пустых значений: 10129\n",
      "Осталось пустых значений в %: 2.8583199997742463\n"
     ]
    }
   ],
   "source": [
    "do_filling(dataFiller)"
   ]
  },
  {
   "cell_type": "markdown",
   "metadata": {},
   "source": [
    "Попробуем понизить количество признаков используемых для предсказания "
   ]
  },
  {
   "cell_type": "code",
   "execution_count": 28,
   "metadata": {},
   "outputs": [],
   "source": [
    "dataFiller = DataFiller(data[['Model','Brand','Gearbox']], 'Gearbox' )"
   ]
  },
  {
   "cell_type": "code",
   "execution_count": 29,
   "metadata": {},
   "outputs": [],
   "source": [
    "accuracy = dataFiller.train(30)"
   ]
  },
  {
   "cell_type": "code",
   "execution_count": 30,
   "metadata": {},
   "outputs": [
    {
     "data": {
      "text/plain": [
       "0.8500249491888471"
      ]
     },
     "execution_count": 30,
     "metadata": {},
     "output_type": "execute_result"
    }
   ],
   "source": [
    "accuracy"
   ]
  },
  {
   "cell_type": "code",
   "execution_count": 31,
   "metadata": {},
   "outputs": [
    {
     "name": "stdout",
     "output_type": "stream",
     "text": [
      "Поле Gearbox\n",
      "Осталось пустых значений: 4131\n",
      "Осталось пустых значений в %: 1.1657340230099134\n"
     ]
    }
   ],
   "source": [
    "do_filling(dataFiller)"
   ]
  },
  {
   "cell_type": "markdown",
   "metadata": {},
   "source": [
    "Заполним остаток служебным словом "
   ]
  },
  {
   "cell_type": "code",
   "execution_count": 32,
   "metadata": {},
   "outputs": [
    {
     "data": {
      "text/plain": [
       "array(['manual', 'auto', nan], dtype=object)"
      ]
     },
     "execution_count": 32,
     "metadata": {},
     "output_type": "execute_result"
    }
   ],
   "source": [
    "data['Gearbox'].unique()"
   ]
  },
  {
   "cell_type": "code",
   "execution_count": 33,
   "metadata": {},
   "outputs": [],
   "source": [
    "data['Gearbox'].fillna('unknown', inplace=True)"
   ]
  },
  {
   "cell_type": "code",
   "execution_count": 34,
   "metadata": {},
   "outputs": [
    {
     "data": {
      "text/plain": [
       "0"
      ]
     },
     "execution_count": 34,
     "metadata": {},
     "output_type": "execute_result"
    }
   ],
   "source": [
    "data['Gearbox'].isna().sum()"
   ]
  },
  {
   "cell_type": "markdown",
   "metadata": {},
   "source": [
    "##### Поле Model"
   ]
  },
  {
   "cell_type": "code",
   "execution_count": 35,
   "metadata": {},
   "outputs": [
    {
     "data": {
      "text/plain": [
       "19705"
      ]
     },
     "execution_count": 35,
     "metadata": {},
     "output_type": "execute_result"
    }
   ],
   "source": [
    "data['Model'].isna().sum()"
   ]
  },
  {
   "cell_type": "code",
   "execution_count": 36,
   "metadata": {},
   "outputs": [],
   "source": [
    "dataFiller = DataFiller(data[colums4fill], 'Model' )"
   ]
  },
  {
   "cell_type": "code",
   "execution_count": 37,
   "metadata": {},
   "outputs": [],
   "source": [
    "accuracy = dataFiller.train(30)"
   ]
  },
  {
   "cell_type": "code",
   "execution_count": 38,
   "metadata": {},
   "outputs": [
    {
     "data": {
      "text/plain": [
       "0.5972447010992711"
      ]
     },
     "execution_count": 38,
     "metadata": {},
     "output_type": "execute_result"
    }
   ],
   "source": [
    "accuracy"
   ]
  },
  {
   "cell_type": "code",
   "execution_count": 39,
   "metadata": {},
   "outputs": [
    {
     "name": "stdout",
     "output_type": "stream",
     "text": [
      "Поле Model\n",
      "Осталось пустых значений: 7163\n",
      "Осталось пустых значений в %: 2.0213393383732776\n"
     ]
    }
   ],
   "source": [
    "do_filling(dataFiller)"
   ]
  },
  {
   "cell_type": "markdown",
   "metadata": {},
   "source": [
    "Заполним остаток служебным словом "
   ]
  },
  {
   "cell_type": "code",
   "execution_count": 40,
   "metadata": {},
   "outputs": [
    {
     "data": {
      "text/plain": [
       "array(['golf', 'a5', 'grand', 'fabia', '3er', '2_reihe', 'other', 'c_max',\n",
       "       '3_reihe', 'passat', 'navara', 'ka', 'polo', 'twingo', 'a_klasse',\n",
       "       'scirocco', '5er', 'meriva', 'arosa', 'c4', 'civic', 'transporter',\n",
       "       'punto', 'e_klasse', 'clio', 'kadett', 'kangoo', 'corsa', 'one',\n",
       "       'fortwo', '1er', 'b_klasse', 'signum', 'astra', nan, 'a8', 'jetta',\n",
       "       'fiesta', 'c_klasse', 'micra', 'vito', 'sprinter', '156', 'escort',\n",
       "       'forester', 'xc_reihe', 'scenic', 'a4', 'a1', 'insignia', 'combo',\n",
       "       'focus', 'tt', 'a6', 'jazz', 'omega', 'slk', '7er', '80', '147',\n",
       "       '100', 'z_reihe', 'sportage', 'sorento', 'v40', 'ibiza', 'mustang',\n",
       "       'eos', 'touran', 'getz', 'a3', 'almera', 'megane', 'lupo', 'r19',\n",
       "       'zafira', 'caddy', 'mondeo', 'cordoba', 'colt', 'impreza',\n",
       "       'vectra', 'berlingo', 'tiguan', 'i_reihe', 'espace', 'sharan',\n",
       "       '6_reihe', 'panda', 'up', 'seicento', 'ceed', '5_reihe', 'yeti',\n",
       "       'octavia', 'mii', 'rx_reihe', '6er', 'modus', 'fox', 'matiz',\n",
       "       'beetle', 'c1', 'rio', 'touareg', 'logan', 'spider', 'cuore',\n",
       "       's_max', 'a2', 'galaxy', 'c3', 'viano', 's_klasse', '1_reihe',\n",
       "       'avensis', 'roomster', 'sl', 'kaefer', 'santa', 'cooper', 'leon',\n",
       "       '4_reihe', '500', 'laguna', 'ptcruiser', 'clk', 'primera',\n",
       "       'x_reihe', 'exeo', '159', 'transit', 'juke', 'qashqai', 'carisma',\n",
       "       'accord', 'corolla', 'lanos', 'phaeton', 'verso', 'swift', 'rav',\n",
       "       'picanto', 'boxster', 'kalos', 'superb', 'stilo', 'alhambra',\n",
       "       'mx_reihe', 'roadster', 'ypsilon', 'cayenne', 'galant', 'justy',\n",
       "       '90', 'sirion', 'crossfire', 'agila', 'duster', 'cr_reihe', 'v50',\n",
       "       'c_reihe', 'v_klasse', 'm_klasse', 'yaris', 'c5', 'aygo', 'cc',\n",
       "       'carnival', 'fusion', '911', 'bora', 'forfour', 'altea', 'm_reihe',\n",
       "       'cl', 'tigra', '300c', 'spark', 'v70', 'kuga', 'x_type', 'ducato',\n",
       "       's_type', 'x_trail', 'toledo', 'voyager', 'calibra', 'bravo',\n",
       "       'antara', 'tucson', 'citigo', 'jimny', 'wrangler', 'lybra', 'q7',\n",
       "       'lancer', 'captiva', 'c2', 'discovery', 'freelander', 'sandero',\n",
       "       'note', '900', 'cherokee', 'clubman', 'samara', 'defender', '601',\n",
       "       'cx_reihe', 'legacy', 'pajero', 'auris', 'niva', 's60',\n",
       "       'range_rover_sport', 'nubira', 'vivaro', 'g_klasse', 'lodgy',\n",
       "       '850', 'range_rover', 'q3', 'serie_2', 'glk', 'charade', 'croma',\n",
       "       'outlander', 'doblo', 'musa', 'move', '9000', 'v60', '145', 'aveo',\n",
       "       '200', 'b_max', 'terios', 'rangerover', 'q5', 'range_rover_evoque',\n",
       "       'materia', 'delta', 'gl', 'kalina', 'amarok', 'elefantino', 'i3',\n",
       "       'kappa', 'serie_3', 'serie_1'], dtype=object)"
      ]
     },
     "execution_count": 40,
     "metadata": {},
     "output_type": "execute_result"
    }
   ],
   "source": [
    "data['Model'].unique()"
   ]
  },
  {
   "cell_type": "code",
   "execution_count": 41,
   "metadata": {},
   "outputs": [],
   "source": [
    "data['Model'].fillna('unknown', inplace=True)"
   ]
  },
  {
   "cell_type": "code",
   "execution_count": 42,
   "metadata": {},
   "outputs": [
    {
     "data": {
      "text/plain": [
       "0"
      ]
     },
     "execution_count": 42,
     "metadata": {},
     "output_type": "execute_result"
    }
   ],
   "source": [
    "data['Model'].isna().sum()"
   ]
  },
  {
   "cell_type": "markdown",
   "metadata": {},
   "source": [
    "##### Поле FuelType"
   ]
  },
  {
   "cell_type": "code",
   "execution_count": 43,
   "metadata": {},
   "outputs": [
    {
     "data": {
      "text/plain": [
       "32895"
      ]
     },
     "execution_count": 43,
     "metadata": {},
     "output_type": "execute_result"
    }
   ],
   "source": [
    "data['FuelType'].isna().sum()"
   ]
  },
  {
   "cell_type": "code",
   "execution_count": 44,
   "metadata": {},
   "outputs": [],
   "source": [
    "dataFiller = DataFiller(data[colums4fill], 'FuelType' )"
   ]
  },
  {
   "cell_type": "code",
   "execution_count": 45,
   "metadata": {},
   "outputs": [],
   "source": [
    "accuracy = dataFiller.train(30)"
   ]
  },
  {
   "cell_type": "code",
   "execution_count": 46,
   "metadata": {},
   "outputs": [
    {
     "data": {
      "text/plain": [
       "0.7658301086239719"
      ]
     },
     "execution_count": 46,
     "metadata": {},
     "output_type": "execute_result"
    }
   ],
   "source": [
    "accuracy"
   ]
  },
  {
   "cell_type": "code",
   "execution_count": 47,
   "metadata": {},
   "outputs": [
    {
     "name": "stdout",
     "output_type": "stream",
     "text": [
      "Поле FuelType\n",
      "Осталось пустых значений: 0\n",
      "Осталось пустых значений в %: 0\n"
     ]
    }
   ],
   "source": [
    "do_filling(dataFiller)"
   ]
  },
  {
   "cell_type": "markdown",
   "metadata": {},
   "source": [
    "##### Поле NotRepaired"
   ]
  },
  {
   "cell_type": "code",
   "execution_count": 48,
   "metadata": {},
   "outputs": [
    {
     "data": {
      "text/plain": [
       "71154"
      ]
     },
     "execution_count": 48,
     "metadata": {},
     "output_type": "execute_result"
    }
   ],
   "source": [
    "data['NotRepaired'].isna().sum()"
   ]
  },
  {
   "cell_type": "markdown",
   "metadata": {},
   "source": [
    "Нам нечем руководствоваться при заполнении этого поля (была ли машина в аварии), заполним все служебным словом "
   ]
  },
  {
   "cell_type": "code",
   "execution_count": 49,
   "metadata": {},
   "outputs": [],
   "source": [
    "data['NotRepaired'].fillna('unknown', inplace=True)"
   ]
  },
  {
   "cell_type": "code",
   "execution_count": 50,
   "metadata": {},
   "outputs": [
    {
     "data": {
      "text/plain": [
       "0"
      ]
     },
     "execution_count": 50,
     "metadata": {},
     "output_type": "execute_result"
    }
   ],
   "source": [
    "data['NotRepaired'].isna().sum()"
   ]
  },
  {
   "cell_type": "markdown",
   "metadata": {},
   "source": [
    "##### Проверка "
   ]
  },
  {
   "cell_type": "code",
   "execution_count": 51,
   "metadata": {},
   "outputs": [
    {
     "name": "stdout",
     "output_type": "stream",
     "text": [
      "<class 'pandas.core.frame.DataFrame'>\n",
      "RangeIndex: 354369 entries, 0 to 354368\n",
      "Data columns (total 16 columns):\n",
      "DateCrawled          354369 non-null object\n",
      "Price                354369 non-null int64\n",
      "VehicleType          354369 non-null object\n",
      "RegistrationYear     354369 non-null int64\n",
      "Gearbox              354369 non-null object\n",
      "Power                354369 non-null int64\n",
      "Model                354369 non-null object\n",
      "Kilometer            354369 non-null int64\n",
      "RegistrationMonth    354369 non-null int64\n",
      "FuelType             354369 non-null object\n",
      "Brand                354369 non-null object\n",
      "NotRepaired          354369 non-null object\n",
      "DateCreated          354369 non-null object\n",
      "NumberOfPictures     354369 non-null int64\n",
      "PostalCode           354369 non-null int64\n",
      "LastSeen             354369 non-null object\n",
      "dtypes: int64(7), object(9)\n",
      "memory usage: 43.3+ MB\n"
     ]
    }
   ],
   "source": [
    "data.info()"
   ]
  },
  {
   "cell_type": "markdown",
   "metadata": {},
   "source": [
    "### Привидение типов "
   ]
  },
  {
   "cell_type": "code",
   "execution_count": 52,
   "metadata": {},
   "outputs": [],
   "source": [
    "data['DateCrawled'] = pd.to_datetime(data['DateCrawled'], format='%Y-%m-%d %H:%M:%S')"
   ]
  },
  {
   "cell_type": "code",
   "execution_count": 53,
   "metadata": {},
   "outputs": [],
   "source": [
    "data['DateCreated'] = pd.to_datetime(data['DateCreated'], format='%Y-%m-%d %H:%M:%S')"
   ]
  },
  {
   "cell_type": "code",
   "execution_count": 54,
   "metadata": {},
   "outputs": [],
   "source": [
    "data['LastSeen'] = pd.to_datetime(data['LastSeen'], format='%Y-%m-%d %H:%M:%S')"
   ]
  },
  {
   "cell_type": "markdown",
   "metadata": {},
   "source": [
    "### Предварительное кодирование признаков "
   ]
  },
  {
   "cell_type": "code",
   "execution_count": 55,
   "metadata": {},
   "outputs": [
    {
     "data": {
      "text/html": [
       "<div>\n",
       "<style scoped>\n",
       "    .dataframe tbody tr th:only-of-type {\n",
       "        vertical-align: middle;\n",
       "    }\n",
       "\n",
       "    .dataframe tbody tr th {\n",
       "        vertical-align: top;\n",
       "    }\n",
       "\n",
       "    .dataframe thead th {\n",
       "        text-align: right;\n",
       "    }\n",
       "</style>\n",
       "<table border=\"1\" class=\"dataframe\">\n",
       "  <thead>\n",
       "    <tr style=\"text-align: right;\">\n",
       "      <th></th>\n",
       "      <th>DateCrawled</th>\n",
       "      <th>Price</th>\n",
       "      <th>VehicleType</th>\n",
       "      <th>RegistrationYear</th>\n",
       "      <th>Gearbox</th>\n",
       "      <th>Power</th>\n",
       "      <th>Model</th>\n",
       "      <th>Kilometer</th>\n",
       "      <th>RegistrationMonth</th>\n",
       "      <th>FuelType</th>\n",
       "      <th>Brand</th>\n",
       "      <th>NotRepaired</th>\n",
       "      <th>DateCreated</th>\n",
       "      <th>NumberOfPictures</th>\n",
       "      <th>PostalCode</th>\n",
       "      <th>LastSeen</th>\n",
       "    </tr>\n",
       "  </thead>\n",
       "  <tbody>\n",
       "    <tr>\n",
       "      <td>0</td>\n",
       "      <td>2016-03-24 11:52:17</td>\n",
       "      <td>480</td>\n",
       "      <td>sedan</td>\n",
       "      <td>1993</td>\n",
       "      <td>manual</td>\n",
       "      <td>0</td>\n",
       "      <td>golf</td>\n",
       "      <td>150000</td>\n",
       "      <td>0</td>\n",
       "      <td>petrol</td>\n",
       "      <td>volkswagen</td>\n",
       "      <td>unknown</td>\n",
       "      <td>2016-03-24</td>\n",
       "      <td>0</td>\n",
       "      <td>70435</td>\n",
       "      <td>2016-04-07 03:16:57</td>\n",
       "    </tr>\n",
       "    <tr>\n",
       "      <td>1</td>\n",
       "      <td>2016-03-24 10:58:45</td>\n",
       "      <td>18300</td>\n",
       "      <td>coupe</td>\n",
       "      <td>2011</td>\n",
       "      <td>manual</td>\n",
       "      <td>190</td>\n",
       "      <td>a5</td>\n",
       "      <td>125000</td>\n",
       "      <td>5</td>\n",
       "      <td>gasoline</td>\n",
       "      <td>audi</td>\n",
       "      <td>yes</td>\n",
       "      <td>2016-03-24</td>\n",
       "      <td>0</td>\n",
       "      <td>66954</td>\n",
       "      <td>2016-04-07 01:46:50</td>\n",
       "    </tr>\n",
       "    <tr>\n",
       "      <td>2</td>\n",
       "      <td>2016-03-14 12:52:21</td>\n",
       "      <td>9800</td>\n",
       "      <td>suv</td>\n",
       "      <td>2004</td>\n",
       "      <td>auto</td>\n",
       "      <td>163</td>\n",
       "      <td>grand</td>\n",
       "      <td>125000</td>\n",
       "      <td>8</td>\n",
       "      <td>gasoline</td>\n",
       "      <td>jeep</td>\n",
       "      <td>unknown</td>\n",
       "      <td>2016-03-14</td>\n",
       "      <td>0</td>\n",
       "      <td>90480</td>\n",
       "      <td>2016-04-05 12:47:46</td>\n",
       "    </tr>\n",
       "    <tr>\n",
       "      <td>3</td>\n",
       "      <td>2016-03-17 16:54:04</td>\n",
       "      <td>1500</td>\n",
       "      <td>small</td>\n",
       "      <td>2001</td>\n",
       "      <td>manual</td>\n",
       "      <td>75</td>\n",
       "      <td>golf</td>\n",
       "      <td>150000</td>\n",
       "      <td>6</td>\n",
       "      <td>petrol</td>\n",
       "      <td>volkswagen</td>\n",
       "      <td>no</td>\n",
       "      <td>2016-03-17</td>\n",
       "      <td>0</td>\n",
       "      <td>91074</td>\n",
       "      <td>2016-03-17 17:40:17</td>\n",
       "    </tr>\n",
       "    <tr>\n",
       "      <td>4</td>\n",
       "      <td>2016-03-31 17:25:20</td>\n",
       "      <td>3600</td>\n",
       "      <td>small</td>\n",
       "      <td>2008</td>\n",
       "      <td>manual</td>\n",
       "      <td>69</td>\n",
       "      <td>fabia</td>\n",
       "      <td>90000</td>\n",
       "      <td>7</td>\n",
       "      <td>gasoline</td>\n",
       "      <td>skoda</td>\n",
       "      <td>no</td>\n",
       "      <td>2016-03-31</td>\n",
       "      <td>0</td>\n",
       "      <td>60437</td>\n",
       "      <td>2016-04-06 10:17:21</td>\n",
       "    </tr>\n",
       "  </tbody>\n",
       "</table>\n",
       "</div>"
      ],
      "text/plain": [
       "          DateCrawled  Price VehicleType  RegistrationYear Gearbox  Power  \\\n",
       "0 2016-03-24 11:52:17    480       sedan              1993  manual      0   \n",
       "1 2016-03-24 10:58:45  18300       coupe              2011  manual    190   \n",
       "2 2016-03-14 12:52:21   9800         suv              2004    auto    163   \n",
       "3 2016-03-17 16:54:04   1500       small              2001  manual     75   \n",
       "4 2016-03-31 17:25:20   3600       small              2008  manual     69   \n",
       "\n",
       "   Model  Kilometer  RegistrationMonth  FuelType       Brand NotRepaired  \\\n",
       "0   golf     150000                  0    petrol  volkswagen     unknown   \n",
       "1     a5     125000                  5  gasoline        audi         yes   \n",
       "2  grand     125000                  8  gasoline        jeep     unknown   \n",
       "3   golf     150000                  6    petrol  volkswagen          no   \n",
       "4  fabia      90000                  7  gasoline       skoda          no   \n",
       "\n",
       "  DateCreated  NumberOfPictures  PostalCode            LastSeen  \n",
       "0  2016-03-24                 0       70435 2016-04-07 03:16:57  \n",
       "1  2016-03-24                 0       66954 2016-04-07 01:46:50  \n",
       "2  2016-03-14                 0       90480 2016-04-05 12:47:46  \n",
       "3  2016-03-17                 0       91074 2016-03-17 17:40:17  \n",
       "4  2016-03-31                 0       60437 2016-04-06 10:17:21  "
      ]
     },
     "execution_count": 55,
     "metadata": {},
     "output_type": "execute_result"
    }
   ],
   "source": [
    "data.head()"
   ]
  },
  {
   "cell_type": "markdown",
   "metadata": {},
   "source": [
    "Переведем datetime в timestamp"
   ]
  },
  {
   "cell_type": "code",
   "execution_count": 56,
   "metadata": {},
   "outputs": [],
   "source": [
    "def datetime_to_total_seconds(column):\n",
    "    return (data[column] - dt.datetime(1970,1,1)).dt.total_seconds()"
   ]
  },
  {
   "cell_type": "code",
   "execution_count": 57,
   "metadata": {},
   "outputs": [],
   "source": [
    "data['DateCrawled_m'] = datetime_to_total_seconds('DateCrawled')"
   ]
  },
  {
   "cell_type": "code",
   "execution_count": 58,
   "metadata": {},
   "outputs": [],
   "source": [
    "data['DateCreated_m'] = datetime_to_total_seconds('DateCreated')"
   ]
  },
  {
   "cell_type": "code",
   "execution_count": 59,
   "metadata": {},
   "outputs": [],
   "source": [
    "data['LastSeen_m'] = datetime_to_total_seconds('LastSeen')"
   ]
  },
  {
   "cell_type": "markdown",
   "metadata": {},
   "source": [
    "Кодирование меток"
   ]
  },
  {
   "cell_type": "code",
   "execution_count": 60,
   "metadata": {},
   "outputs": [],
   "source": [
    "columns = ['VehicleType', 'Gearbox', 'Model', 'FuelType', 'Brand','NotRepaired']\n",
    "encoder = OrdinalEncoder()\n",
    "\n",
    "data_ordinal =  pd.DataFrame(encoder.fit_transform(data[columns]),\n",
    "                            columns=['VehicleType_m', 'Gearbox_m', 'Model_m', 'FuelType_m', 'Brand_m','NotRepaired_m'])"
   ]
  },
  {
   "cell_type": "code",
   "execution_count": 61,
   "metadata": {},
   "outputs": [],
   "source": [
    "data = pd.concat([data,data_ordinal], axis = 1)"
   ]
  },
  {
   "cell_type": "code",
   "execution_count": 62,
   "metadata": {},
   "outputs": [
    {
     "data": {
      "text/html": [
       "<div>\n",
       "<style scoped>\n",
       "    .dataframe tbody tr th:only-of-type {\n",
       "        vertical-align: middle;\n",
       "    }\n",
       "\n",
       "    .dataframe tbody tr th {\n",
       "        vertical-align: top;\n",
       "    }\n",
       "\n",
       "    .dataframe thead th {\n",
       "        text-align: right;\n",
       "    }\n",
       "</style>\n",
       "<table border=\"1\" class=\"dataframe\">\n",
       "  <thead>\n",
       "    <tr style=\"text-align: right;\">\n",
       "      <th></th>\n",
       "      <th>DateCrawled</th>\n",
       "      <th>Price</th>\n",
       "      <th>VehicleType</th>\n",
       "      <th>RegistrationYear</th>\n",
       "      <th>Gearbox</th>\n",
       "      <th>Power</th>\n",
       "      <th>Model</th>\n",
       "      <th>Kilometer</th>\n",
       "      <th>RegistrationMonth</th>\n",
       "      <th>FuelType</th>\n",
       "      <th>...</th>\n",
       "      <th>LastSeen</th>\n",
       "      <th>DateCrawled_m</th>\n",
       "      <th>DateCreated_m</th>\n",
       "      <th>LastSeen_m</th>\n",
       "      <th>VehicleType_m</th>\n",
       "      <th>Gearbox_m</th>\n",
       "      <th>Model_m</th>\n",
       "      <th>FuelType_m</th>\n",
       "      <th>Brand_m</th>\n",
       "      <th>NotRepaired_m</th>\n",
       "    </tr>\n",
       "  </thead>\n",
       "  <tbody>\n",
       "    <tr>\n",
       "      <td>0</td>\n",
       "      <td>2016-03-24 11:52:17</td>\n",
       "      <td>480</td>\n",
       "      <td>sedan</td>\n",
       "      <td>1993</td>\n",
       "      <td>manual</td>\n",
       "      <td>0</td>\n",
       "      <td>golf</td>\n",
       "      <td>150000</td>\n",
       "      <td>0</td>\n",
       "      <td>petrol</td>\n",
       "      <td>...</td>\n",
       "      <td>2016-04-07 03:16:57</td>\n",
       "      <td>1.458820e+09</td>\n",
       "      <td>1.458778e+09</td>\n",
       "      <td>1.459999e+09</td>\n",
       "      <td>4.0</td>\n",
       "      <td>1.0</td>\n",
       "      <td>116.0</td>\n",
       "      <td>6.0</td>\n",
       "      <td>38.0</td>\n",
       "      <td>1.0</td>\n",
       "    </tr>\n",
       "    <tr>\n",
       "      <td>1</td>\n",
       "      <td>2016-03-24 10:58:45</td>\n",
       "      <td>18300</td>\n",
       "      <td>coupe</td>\n",
       "      <td>2011</td>\n",
       "      <td>manual</td>\n",
       "      <td>190</td>\n",
       "      <td>a5</td>\n",
       "      <td>125000</td>\n",
       "      <td>5</td>\n",
       "      <td>gasoline</td>\n",
       "      <td>...</td>\n",
       "      <td>2016-04-07 01:46:50</td>\n",
       "      <td>1.458817e+09</td>\n",
       "      <td>1.458778e+09</td>\n",
       "      <td>1.459994e+09</td>\n",
       "      <td>2.0</td>\n",
       "      <td>1.0</td>\n",
       "      <td>30.0</td>\n",
       "      <td>2.0</td>\n",
       "      <td>1.0</td>\n",
       "      <td>2.0</td>\n",
       "    </tr>\n",
       "    <tr>\n",
       "      <td>2</td>\n",
       "      <td>2016-03-14 12:52:21</td>\n",
       "      <td>9800</td>\n",
       "      <td>suv</td>\n",
       "      <td>2004</td>\n",
       "      <td>auto</td>\n",
       "      <td>163</td>\n",
       "      <td>grand</td>\n",
       "      <td>125000</td>\n",
       "      <td>8</td>\n",
       "      <td>gasoline</td>\n",
       "      <td>...</td>\n",
       "      <td>2016-04-05 12:47:46</td>\n",
       "      <td>1.457960e+09</td>\n",
       "      <td>1.457914e+09</td>\n",
       "      <td>1.459860e+09</td>\n",
       "      <td>6.0</td>\n",
       "      <td>0.0</td>\n",
       "      <td>117.0</td>\n",
       "      <td>2.0</td>\n",
       "      <td>14.0</td>\n",
       "      <td>1.0</td>\n",
       "    </tr>\n",
       "    <tr>\n",
       "      <td>3</td>\n",
       "      <td>2016-03-17 16:54:04</td>\n",
       "      <td>1500</td>\n",
       "      <td>small</td>\n",
       "      <td>2001</td>\n",
       "      <td>manual</td>\n",
       "      <td>75</td>\n",
       "      <td>golf</td>\n",
       "      <td>150000</td>\n",
       "      <td>6</td>\n",
       "      <td>petrol</td>\n",
       "      <td>...</td>\n",
       "      <td>2016-03-17 17:40:17</td>\n",
       "      <td>1.458234e+09</td>\n",
       "      <td>1.458173e+09</td>\n",
       "      <td>1.458236e+09</td>\n",
       "      <td>5.0</td>\n",
       "      <td>1.0</td>\n",
       "      <td>116.0</td>\n",
       "      <td>6.0</td>\n",
       "      <td>38.0</td>\n",
       "      <td>0.0</td>\n",
       "    </tr>\n",
       "    <tr>\n",
       "      <td>4</td>\n",
       "      <td>2016-03-31 17:25:20</td>\n",
       "      <td>3600</td>\n",
       "      <td>small</td>\n",
       "      <td>2008</td>\n",
       "      <td>manual</td>\n",
       "      <td>69</td>\n",
       "      <td>fabia</td>\n",
       "      <td>90000</td>\n",
       "      <td>7</td>\n",
       "      <td>gasoline</td>\n",
       "      <td>...</td>\n",
       "      <td>2016-04-06 10:17:21</td>\n",
       "      <td>1.459445e+09</td>\n",
       "      <td>1.459382e+09</td>\n",
       "      <td>1.459938e+09</td>\n",
       "      <td>5.0</td>\n",
       "      <td>1.0</td>\n",
       "      <td>101.0</td>\n",
       "      <td>2.0</td>\n",
       "      <td>31.0</td>\n",
       "      <td>0.0</td>\n",
       "    </tr>\n",
       "  </tbody>\n",
       "</table>\n",
       "<p>5 rows × 25 columns</p>\n",
       "</div>"
      ],
      "text/plain": [
       "          DateCrawled  Price VehicleType  RegistrationYear Gearbox  Power  \\\n",
       "0 2016-03-24 11:52:17    480       sedan              1993  manual      0   \n",
       "1 2016-03-24 10:58:45  18300       coupe              2011  manual    190   \n",
       "2 2016-03-14 12:52:21   9800         suv              2004    auto    163   \n",
       "3 2016-03-17 16:54:04   1500       small              2001  manual     75   \n",
       "4 2016-03-31 17:25:20   3600       small              2008  manual     69   \n",
       "\n",
       "   Model  Kilometer  RegistrationMonth  FuelType  ...            LastSeen  \\\n",
       "0   golf     150000                  0    petrol  ... 2016-04-07 03:16:57   \n",
       "1     a5     125000                  5  gasoline  ... 2016-04-07 01:46:50   \n",
       "2  grand     125000                  8  gasoline  ... 2016-04-05 12:47:46   \n",
       "3   golf     150000                  6    petrol  ... 2016-03-17 17:40:17   \n",
       "4  fabia      90000                  7  gasoline  ... 2016-04-06 10:17:21   \n",
       "\n",
       "  DateCrawled_m DateCreated_m    LastSeen_m  VehicleType_m Gearbox_m  Model_m  \\\n",
       "0  1.458820e+09  1.458778e+09  1.459999e+09            4.0       1.0    116.0   \n",
       "1  1.458817e+09  1.458778e+09  1.459994e+09            2.0       1.0     30.0   \n",
       "2  1.457960e+09  1.457914e+09  1.459860e+09            6.0       0.0    117.0   \n",
       "3  1.458234e+09  1.458173e+09  1.458236e+09            5.0       1.0    116.0   \n",
       "4  1.459445e+09  1.459382e+09  1.459938e+09            5.0       1.0    101.0   \n",
       "\n",
       "   FuelType_m  Brand_m  NotRepaired_m  \n",
       "0         6.0     38.0            1.0  \n",
       "1         2.0      1.0            2.0  \n",
       "2         2.0     14.0            1.0  \n",
       "3         6.0     38.0            0.0  \n",
       "4         2.0     31.0            0.0  \n",
       "\n",
       "[5 rows x 25 columns]"
      ]
     },
     "execution_count": 62,
     "metadata": {},
     "output_type": "execute_result"
    }
   ],
   "source": [
    "data.head()"
   ]
  },
  {
   "cell_type": "markdown",
   "metadata": {},
   "source": [
    "### Поле Price"
   ]
  },
  {
   "cell_type": "code",
   "execution_count": 63,
   "metadata": {},
   "outputs": [
    {
     "data": {
      "text/plain": [
       "count    354369.000000\n",
       "mean       4416.656776\n",
       "std        4514.158514\n",
       "min           0.000000\n",
       "25%        1050.000000\n",
       "50%        2700.000000\n",
       "75%        6400.000000\n",
       "max       20000.000000\n",
       "Name: Price, dtype: float64"
      ]
     },
     "execution_count": 63,
     "metadata": {},
     "output_type": "execute_result"
    }
   ],
   "source": [
    "data['Price'].describe()"
   ]
  },
  {
   "cell_type": "code",
   "execution_count": 64,
   "metadata": {},
   "outputs": [],
   "source": [
    "def visualize():\n",
    "    fig, axes = plt.subplots(ncols=1, nrows=2, figsize=(16, 10))    \n",
    "    fig.suptitle('Распределения поля Price')\n",
    "    \n",
    "    ax = axes.flat\n",
    "    \n",
    "    axes[0].set_xlabel('Цена в евро')\n",
    "    data.boxplot('Price',vert=False,  ax=ax[0])\n",
    "    \n",
    "    axes[1].set_ylabel('Относительная частота')\n",
    "    axes[1].set_xlabel('Цена в евро')\n",
    "    sns.histplot(data['Price'], kde=True, stat=\"probability\", ax=ax[1])\n",
    "    plt.show()"
   ]
  },
  {
   "cell_type": "code",
   "execution_count": 65,
   "metadata": {},
   "outputs": [
    {
     "data": {
      "image/png": "[encoded data removed]",
      "text/plain": [
       "<Figure size 1152x720 with 2 Axes>"
      ]
     },
     "metadata": {
      "needs_background": "light"
     },
     "output_type": "display_data"
    }
   ],
   "source": [
    "visualize()"
   ]
  },
  {
   "cell_type": "markdown",
   "metadata": {},
   "source": [
    "#### Вывод"
   ]
  },
  {
   "cell_type": "markdown",
   "metadata": {},
   "source": [
    "Поле имеет логнормальное распределение и не содержит выбросов. Однако машины с нулевой ценой вызывают подозрение, рассмотрим их отдельно."
   ]
  },
  {
   "cell_type": "markdown",
   "metadata": {},
   "source": [
    "### Обработка полей не влияющих на цену "
   ]
  },
  {
   "cell_type": "markdown",
   "metadata": {},
   "source": [
    "Предположим, что на цену не влияют следующие поля:\n",
    "    \n",
    "- DateCrawled\n",
    "- RegistrationMonth\n",
    "- DateCreated\n",
    "- NumberOfPictures\n",
    "- PostalCode\n",
    "- LastSeen\n",
    "\n",
    "Проверим наши предположения "
   ]
  },
  {
   "cell_type": "code",
   "execution_count": 66,
   "metadata": {},
   "outputs": [],
   "source": [
    "def select_features(X_train, y_train):\n",
    "    fs = SelectKBest(score_func=f_regression, k='all')\n",
    "    fs.fit(X_train, y_train)\n",
    "    # transform train input data\n",
    "    X_train_fs = fs.transform(X_train)\n",
    "    return X_train_fs, fs"
   ]
  },
  {
   "cell_type": "code",
   "execution_count": 67,
   "metadata": {},
   "outputs": [],
   "source": [
    "columns = ['VehicleType', 'Gearbox', 'Model', 'FuelType', 'Brand','NotRepaired','DateCrawled','DateCreated', 'LastSeen']\n",
    "tmp = data.drop(columns=columns)\n",
    "tmp = tmp.drop(columns=['Price'])\n",
    "X_train_fs, fs = select_features(tmp, data['Price'])"
   ]
  },
  {
   "cell_type": "code",
   "execution_count": 68,
   "metadata": {},
   "outputs": [],
   "source": [
    "features = pd.DataFrame(fs.scores_, index=tmp.columns,columns=['scores'])"
   ]
  },
  {
   "cell_type": "code",
   "execution_count": 69,
   "metadata": {},
   "outputs": [
    {
     "data": {
      "text/html": [
       "<div>\n",
       "<style scoped>\n",
       "    .dataframe tbody tr th:only-of-type {\n",
       "        vertical-align: middle;\n",
       "    }\n",
       "\n",
       "    .dataframe tbody tr th {\n",
       "        vertical-align: top;\n",
       "    }\n",
       "\n",
       "    .dataframe thead th {\n",
       "        text-align: right;\n",
       "    }\n",
       "</style>\n",
       "<table border=\"1\" class=\"dataframe\">\n",
       "  <thead>\n",
       "    <tr style=\"text-align: right;\">\n",
       "      <th></th>\n",
       "      <th>scores</th>\n",
       "    </tr>\n",
       "  </thead>\n",
       "  <tbody>\n",
       "    <tr>\n",
       "      <td>Kilometer</td>\n",
       "      <td>44255.868120</td>\n",
       "    </tr>\n",
       "    <tr>\n",
       "      <td>NotRepaired_m</td>\n",
       "      <td>32188.416730</td>\n",
       "    </tr>\n",
       "    <tr>\n",
       "      <td>FuelType_m</td>\n",
       "      <td>31648.568878</td>\n",
       "    </tr>\n",
       "    <tr>\n",
       "      <td>Gearbox_m</td>\n",
       "      <td>25524.668097</td>\n",
       "    </tr>\n",
       "    <tr>\n",
       "      <td>Power</td>\n",
       "      <td>9175.891954</td>\n",
       "    </tr>\n",
       "    <tr>\n",
       "      <td>LastSeen_m</td>\n",
       "      <td>8094.046856</td>\n",
       "    </tr>\n",
       "    <tr>\n",
       "      <td>RegistrationMonth</td>\n",
       "      <td>4386.901434</td>\n",
       "    </tr>\n",
       "    <tr>\n",
       "      <td>Brand_m</td>\n",
       "      <td>3974.627340</td>\n",
       "    </tr>\n",
       "    <tr>\n",
       "      <td>VehicleType_m</td>\n",
       "      <td>2548.515344</td>\n",
       "    </tr>\n",
       "    <tr>\n",
       "      <td>PostalCode</td>\n",
       "      <td>2061.717183</td>\n",
       "    </tr>\n",
       "    <tr>\n",
       "      <td>Model_m</td>\n",
       "      <td>485.926555</td>\n",
       "    </tr>\n",
       "    <tr>\n",
       "      <td>RegistrationYear</td>\n",
       "      <td>256.913968</td>\n",
       "    </tr>\n",
       "    <tr>\n",
       "      <td>DateCrawled_m</td>\n",
       "      <td>73.748256</td>\n",
       "    </tr>\n",
       "    <tr>\n",
       "      <td>DateCreated_m</td>\n",
       "      <td>38.166416</td>\n",
       "    </tr>\n",
       "    <tr>\n",
       "      <td>NumberOfPictures</td>\n",
       "      <td>NaN</td>\n",
       "    </tr>\n",
       "  </tbody>\n",
       "</table>\n",
       "</div>"
      ],
      "text/plain": [
       "                         scores\n",
       "Kilometer          44255.868120\n",
       "NotRepaired_m      32188.416730\n",
       "FuelType_m         31648.568878\n",
       "Gearbox_m          25524.668097\n",
       "Power               9175.891954\n",
       "LastSeen_m          8094.046856\n",
       "RegistrationMonth   4386.901434\n",
       "Brand_m             3974.627340\n",
       "VehicleType_m       2548.515344\n",
       "PostalCode          2061.717183\n",
       "Model_m              485.926555\n",
       "RegistrationYear     256.913968\n",
       "DateCrawled_m         73.748256\n",
       "DateCreated_m         38.166416\n",
       "NumberOfPictures            NaN"
      ]
     },
     "execution_count": 69,
     "metadata": {},
     "output_type": "execute_result"
    }
   ],
   "source": [
    "features.sort_values('scores',ascending=False)"
   ]
  },
  {
   "cell_type": "markdown",
   "metadata": {},
   "source": [
    "В изначальном наборе данных количество картинок для вех машин равно 0, поэтому влияние этого признака на цену NULL. Поле Model не виляет на цену, так как  показывает тип машины (сидан, хешбек и т. д.). Не понятно почему LastSeen сильно влияет на цену, предположим что это ошибка. Удалим все поля до VehicleType, а также поле LastSeen"
   ]
  },
  {
   "cell_type": "code",
   "execution_count": 70,
   "metadata": {},
   "outputs": [],
   "source": [
    "data.drop(columns=['PostalCode','Model','RegistrationYear','DateCrawled','DateCreated','NumberOfPictures','LastSeen'], inplace=True)"
   ]
  },
  {
   "cell_type": "code",
   "execution_count": 71,
   "metadata": {},
   "outputs": [],
   "source": [
    "data.drop(columns=['Model_m','DateCrawled_m','DateCreated_m','LastSeen_m',\n",
    "                  'VehicleType_m', 'Gearbox_m', 'FuelType_m', 'Brand_m','NotRepaired_m'], inplace=True)"
   ]
  },
  {
   "cell_type": "code",
   "execution_count": 72,
   "metadata": {},
   "outputs": [
    {
     "data": {
      "text/html": [
       "<div>\n",
       "<style scoped>\n",
       "    .dataframe tbody tr th:only-of-type {\n",
       "        vertical-align: middle;\n",
       "    }\n",
       "\n",
       "    .dataframe tbody tr th {\n",
       "        vertical-align: top;\n",
       "    }\n",
       "\n",
       "    .dataframe thead th {\n",
       "        text-align: right;\n",
       "    }\n",
       "</style>\n",
       "<table border=\"1\" class=\"dataframe\">\n",
       "  <thead>\n",
       "    <tr style=\"text-align: right;\">\n",
       "      <th></th>\n",
       "      <th>Price</th>\n",
       "      <th>VehicleType</th>\n",
       "      <th>Gearbox</th>\n",
       "      <th>Power</th>\n",
       "      <th>Kilometer</th>\n",
       "      <th>RegistrationMonth</th>\n",
       "      <th>FuelType</th>\n",
       "      <th>Brand</th>\n",
       "      <th>NotRepaired</th>\n",
       "    </tr>\n",
       "  </thead>\n",
       "  <tbody>\n",
       "    <tr>\n",
       "      <td>0</td>\n",
       "      <td>480</td>\n",
       "      <td>sedan</td>\n",
       "      <td>manual</td>\n",
       "      <td>0</td>\n",
       "      <td>150000</td>\n",
       "      <td>0</td>\n",
       "      <td>petrol</td>\n",
       "      <td>volkswagen</td>\n",
       "      <td>unknown</td>\n",
       "    </tr>\n",
       "    <tr>\n",
       "      <td>1</td>\n",
       "      <td>18300</td>\n",
       "      <td>coupe</td>\n",
       "      <td>manual</td>\n",
       "      <td>190</td>\n",
       "      <td>125000</td>\n",
       "      <td>5</td>\n",
       "      <td>gasoline</td>\n",
       "      <td>audi</td>\n",
       "      <td>yes</td>\n",
       "    </tr>\n",
       "    <tr>\n",
       "      <td>2</td>\n",
       "      <td>9800</td>\n",
       "      <td>suv</td>\n",
       "      <td>auto</td>\n",
       "      <td>163</td>\n",
       "      <td>125000</td>\n",
       "      <td>8</td>\n",
       "      <td>gasoline</td>\n",
       "      <td>jeep</td>\n",
       "      <td>unknown</td>\n",
       "    </tr>\n",
       "    <tr>\n",
       "      <td>3</td>\n",
       "      <td>1500</td>\n",
       "      <td>small</td>\n",
       "      <td>manual</td>\n",
       "      <td>75</td>\n",
       "      <td>150000</td>\n",
       "      <td>6</td>\n",
       "      <td>petrol</td>\n",
       "      <td>volkswagen</td>\n",
       "      <td>no</td>\n",
       "    </tr>\n",
       "    <tr>\n",
       "      <td>4</td>\n",
       "      <td>3600</td>\n",
       "      <td>small</td>\n",
       "      <td>manual</td>\n",
       "      <td>69</td>\n",
       "      <td>90000</td>\n",
       "      <td>7</td>\n",
       "      <td>gasoline</td>\n",
       "      <td>skoda</td>\n",
       "      <td>no</td>\n",
       "    </tr>\n",
       "  </tbody>\n",
       "</table>\n",
       "</div>"
      ],
      "text/plain": [
       "   Price VehicleType Gearbox  Power  Kilometer  RegistrationMonth  FuelType  \\\n",
       "0    480       sedan  manual      0     150000                  0    petrol   \n",
       "1  18300       coupe  manual    190     125000                  5  gasoline   \n",
       "2   9800         suv    auto    163     125000                  8  gasoline   \n",
       "3   1500       small  manual     75     150000                  6    petrol   \n",
       "4   3600       small  manual     69      90000                  7  gasoline   \n",
       "\n",
       "        Brand NotRepaired  \n",
       "0  volkswagen     unknown  \n",
       "1        audi         yes  \n",
       "2        jeep     unknown  \n",
       "3  volkswagen          no  \n",
       "4       skoda          no  "
      ]
     },
     "execution_count": 72,
     "metadata": {},
     "output_type": "execute_result"
    }
   ],
   "source": [
    "data.head()"
   ]
  },
  {
   "cell_type": "markdown",
   "metadata": {},
   "source": [
    "### Обработка полей влияющих на цену "
   ]
  },
  {
   "cell_type": "markdown",
   "metadata": {},
   "source": [
    "#### Поле Power"
   ]
  },
  {
   "cell_type": "code",
   "execution_count": 73,
   "metadata": {},
   "outputs": [
    {
     "data": {
      "text/plain": [
       "count    354369.000000\n",
       "mean        110.094337\n",
       "std         189.850405\n",
       "min           0.000000\n",
       "25%          69.000000\n",
       "50%         105.000000\n",
       "75%         143.000000\n",
       "max       20000.000000\n",
       "Name: Power, dtype: float64"
      ]
     },
     "execution_count": 73,
     "metadata": {},
     "output_type": "execute_result"
    }
   ],
   "source": [
    "data['Power'].describe()"
   ]
  },
  {
   "cell_type": "code",
   "execution_count": 74,
   "metadata": {},
   "outputs": [
    {
     "data": {
      "text/plain": [
       "<matplotlib.axes._subplots.AxesSubplot at 0x7f79a84c9950>"
      ]
     },
     "execution_count": 74,
     "metadata": {},
     "output_type": "execute_result"
    },
    {
     "data": {
      "image/png": "[encoded data removed]",
      "text/plain": [
       "<Figure size 432x288 with 1 Axes>"
      ]
     },
     "metadata": {
      "needs_background": "light"
     },
     "output_type": "display_data"
    }
   ],
   "source": [
    "data.boxplot('Power',vert=False)"
   ]
  },
  {
   "cell_type": "code",
   "execution_count": 75,
   "metadata": {},
   "outputs": [
    {
     "data": {
      "text/plain": [
       "<matplotlib.axes._subplots.AxesSubplot at 0x7f79a7a60a90>"
      ]
     },
     "execution_count": 75,
     "metadata": {},
     "output_type": "execute_result"
    },
    {
     "data": {
      "image/png": "[encoded data removed]",
      "text/plain": [
       "<Figure size 432x288 with 1 Axes>"
      ]
     },
     "metadata": {
      "needs_background": "light"
     },
     "output_type": "display_data"
    }
   ],
   "source": [
    "data['Power'].hist()"
   ]
  },
  {
   "cell_type": "markdown",
   "metadata": {},
   "source": [
    "Признак имеет непонятное распределение. Скорее всего, нули стоят там где пользователь не знал что ставить. Просто масштабируем данный признак после разбиение данных на обучающую и тестовую выборки"
   ]
  },
  {
   "cell_type": "markdown",
   "metadata": {},
   "source": [
    "#### Поле Kilometer"
   ]
  },
  {
   "cell_type": "code",
   "execution_count": 76,
   "metadata": {},
   "outputs": [
    {
     "data": {
      "text/plain": [
       "<matplotlib.axes._subplots.AxesSubplot at 0x7f79a7b13550>"
      ]
     },
     "execution_count": 76,
     "metadata": {},
     "output_type": "execute_result"
    },
    {
     "data": {
      "image/png": "[encoded data removed]",
      "text/plain": [
       "<Figure size 432x288 with 1 Axes>"
      ]
     },
     "metadata": {
      "needs_background": "light"
     },
     "output_type": "display_data"
    }
   ],
   "source": [
    "data.boxplot('Kilometer',vert=False)"
   ]
  },
  {
   "cell_type": "markdown",
   "metadata": {},
   "source": [
    "Аномалий не обнаружено, просто масштабируем признак после разбиение данных на обучающую и тестовую выборки"
   ]
  },
  {
   "cell_type": "markdown",
   "metadata": {},
   "source": [
    "#### Вывод"
   ]
  },
  {
   "cell_type": "markdown",
   "metadata": {},
   "source": [
    "Данные готовы для обучения градиентного бустинга"
   ]
  },
  {
   "cell_type": "code",
   "execution_count": 77,
   "metadata": {},
   "outputs": [
    {
     "name": "stdout",
     "output_type": "stream",
     "text": [
      "<class 'pandas.core.frame.DataFrame'>\n",
      "RangeIndex: 354369 entries, 0 to 354368\n",
      "Data columns (total 9 columns):\n",
      "Price                354369 non-null int64\n",
      "VehicleType          354369 non-null object\n",
      "Gearbox              354369 non-null object\n",
      "Power                354369 non-null int64\n",
      "Kilometer            354369 non-null int64\n",
      "RegistrationMonth    354369 non-null int64\n",
      "FuelType             354369 non-null object\n",
      "Brand                354369 non-null object\n",
      "NotRepaired          354369 non-null object\n",
      "dtypes: int64(4), object(5)\n",
      "memory usage: 24.3+ MB\n"
     ]
    }
   ],
   "source": [
    "data.info()"
   ]
  },
  {
   "cell_type": "code",
   "execution_count": 78,
   "metadata": {},
   "outputs": [
    {
     "data": {
      "text/html": [
       "<div>\n",
       "<style scoped>\n",
       "    .dataframe tbody tr th:only-of-type {\n",
       "        vertical-align: middle;\n",
       "    }\n",
       "\n",
       "    .dataframe tbody tr th {\n",
       "        vertical-align: top;\n",
       "    }\n",
       "\n",
       "    .dataframe thead th {\n",
       "        text-align: right;\n",
       "    }\n",
       "</style>\n",
       "<table border=\"1\" class=\"dataframe\">\n",
       "  <thead>\n",
       "    <tr style=\"text-align: right;\">\n",
       "      <th></th>\n",
       "      <th>Price</th>\n",
       "      <th>VehicleType</th>\n",
       "      <th>Gearbox</th>\n",
       "      <th>Power</th>\n",
       "      <th>Kilometer</th>\n",
       "      <th>RegistrationMonth</th>\n",
       "      <th>FuelType</th>\n",
       "      <th>Brand</th>\n",
       "      <th>NotRepaired</th>\n",
       "    </tr>\n",
       "  </thead>\n",
       "  <tbody>\n",
       "    <tr>\n",
       "      <td>0</td>\n",
       "      <td>480</td>\n",
       "      <td>sedan</td>\n",
       "      <td>manual</td>\n",
       "      <td>0</td>\n",
       "      <td>150000</td>\n",
       "      <td>0</td>\n",
       "      <td>petrol</td>\n",
       "      <td>volkswagen</td>\n",
       "      <td>unknown</td>\n",
       "    </tr>\n",
       "    <tr>\n",
       "      <td>1</td>\n",
       "      <td>18300</td>\n",
       "      <td>coupe</td>\n",
       "      <td>manual</td>\n",
       "      <td>190</td>\n",
       "      <td>125000</td>\n",
       "      <td>5</td>\n",
       "      <td>gasoline</td>\n",
       "      <td>audi</td>\n",
       "      <td>yes</td>\n",
       "    </tr>\n",
       "    <tr>\n",
       "      <td>2</td>\n",
       "      <td>9800</td>\n",
       "      <td>suv</td>\n",
       "      <td>auto</td>\n",
       "      <td>163</td>\n",
       "      <td>125000</td>\n",
       "      <td>8</td>\n",
       "      <td>gasoline</td>\n",
       "      <td>jeep</td>\n",
       "      <td>unknown</td>\n",
       "    </tr>\n",
       "    <tr>\n",
       "      <td>3</td>\n",
       "      <td>1500</td>\n",
       "      <td>small</td>\n",
       "      <td>manual</td>\n",
       "      <td>75</td>\n",
       "      <td>150000</td>\n",
       "      <td>6</td>\n",
       "      <td>petrol</td>\n",
       "      <td>volkswagen</td>\n",
       "      <td>no</td>\n",
       "    </tr>\n",
       "    <tr>\n",
       "      <td>4</td>\n",
       "      <td>3600</td>\n",
       "      <td>small</td>\n",
       "      <td>manual</td>\n",
       "      <td>69</td>\n",
       "      <td>90000</td>\n",
       "      <td>7</td>\n",
       "      <td>gasoline</td>\n",
       "      <td>skoda</td>\n",
       "      <td>no</td>\n",
       "    </tr>\n",
       "  </tbody>\n",
       "</table>\n",
       "</div>"
      ],
      "text/plain": [
       "   Price VehicleType Gearbox  Power  Kilometer  RegistrationMonth  FuelType  \\\n",
       "0    480       sedan  manual      0     150000                  0    petrol   \n",
       "1  18300       coupe  manual    190     125000                  5  gasoline   \n",
       "2   9800         suv    auto    163     125000                  8  gasoline   \n",
       "3   1500       small  manual     75     150000                  6    petrol   \n",
       "4   3600       small  manual     69      90000                  7  gasoline   \n",
       "\n",
       "        Brand NotRepaired  \n",
       "0  volkswagen     unknown  \n",
       "1        audi         yes  \n",
       "2        jeep     unknown  \n",
       "3  volkswagen          no  \n",
       "4       skoda          no  "
      ]
     },
     "execution_count": 78,
     "metadata": {},
     "output_type": "execute_result"
    }
   ],
   "source": [
    "data.head()"
   ]
  },
  {
   "cell_type": "markdown",
   "metadata": {},
   "source": [
    "## Обучение моделей"
   ]
  },
  {
   "cell_type": "code",
   "execution_count": 79,
   "metadata": {},
   "outputs": [],
   "source": [
    "grid_report = pd.DataFrame(columns=['model', 'train_time', 'predict_time', 'rmse', 'rmse_on_test', 'params'])"
   ]
  },
  {
   "cell_type": "code",
   "execution_count": 80,
   "metadata": {},
   "outputs": [],
   "source": [
    "def my_train_test_split(data):\n",
    "    df_train, df_test = train_test_split(data, test_size=0.25, random_state=12345)\n",
    "    \n",
    "    df_train_x, df_train_y = split_x_y(df_train,'Price')\n",
    "    df_test_x, df_test_y = split_x_y(df_test,'Price')\n",
    "    \n",
    "    return df_train_x, df_train_y, df_test_x, df_test_y"
   ]
  },
  {
   "cell_type": "code",
   "execution_count": 81,
   "metadata": {},
   "outputs": [],
   "source": [
    "rmsle_loss = make_scorer(mean_squared_error, greater_is_better=False)"
   ]
  },
  {
   "cell_type": "code",
   "execution_count": 82,
   "metadata": {},
   "outputs": [],
   "source": [
    "def my_GridSearchCV(mode, parametrs):\n",
    "    \n",
    "    grid = GridSearchCV(model(), parametrs, cv=5, scoring=rmsle_loss)\n",
    "    grid.fit(train_x, train_y)\n",
    "    \n",
    "    mode = model(**grid.best_params_)\n",
    "    \n",
    "    start = time.time()\n",
    "    mode.fit(train_x, train_y)\n",
    "    end = time.time()\n",
    "    \n",
    "    train_time = end - start\n",
    "    \n",
    "    start = time.time()\n",
    "    predicts = mode.predict(test_x)\n",
    "    end = time.time()\n",
    "    \n",
    "    predict_time = end - start\n",
    "    \n",
    "    rmse_on_test = mean_squared_error(test_y, predicts) ** 0.5\n",
    "    \n",
    "    row = [model.__name__, train_time, predict_time, (grid.best_score_ * -1) ** 0.5, rmse_on_test, grid.best_params_]\n",
    "    return pd.DataFrame([row], columns=['model', 'train_time', 'predict_time', 'rmse', 'rmse_on_test', 'params'])"
   ]
  },
  {
   "cell_type": "code",
   "execution_count": 83,
   "metadata": {},
   "outputs": [],
   "source": [
    "train_x, train_y, test_x, test_y = my_train_test_split(data)"
   ]
  },
  {
   "cell_type": "markdown",
   "metadata": {},
   "source": [
    "### Масштабирование признаков"
   ]
  },
  {
   "cell_type": "code",
   "execution_count": 84,
   "metadata": {},
   "outputs": [],
   "source": [
    "scaler = MinMaxScaler()"
   ]
  },
  {
   "cell_type": "code",
   "execution_count": 85,
   "metadata": {},
   "outputs": [],
   "source": [
    "train_x[['Power','Kilometer']] = scaler.fit_transform(train_x[['Power','Kilometer']])"
   ]
  },
  {
   "cell_type": "code",
   "execution_count": 86,
   "metadata": {},
   "outputs": [
    {
     "data": {
      "text/html": [
       "<div>\n",
       "<style scoped>\n",
       "    .dataframe tbody tr th:only-of-type {\n",
       "        vertical-align: middle;\n",
       "    }\n",
       "\n",
       "    .dataframe tbody tr th {\n",
       "        vertical-align: top;\n",
       "    }\n",
       "\n",
       "    .dataframe thead th {\n",
       "        text-align: right;\n",
       "    }\n",
       "</style>\n",
       "<table border=\"1\" class=\"dataframe\">\n",
       "  <thead>\n",
       "    <tr style=\"text-align: right;\">\n",
       "      <th></th>\n",
       "      <th>VehicleType</th>\n",
       "      <th>Gearbox</th>\n",
       "      <th>Power</th>\n",
       "      <th>Kilometer</th>\n",
       "      <th>RegistrationMonth</th>\n",
       "      <th>FuelType</th>\n",
       "      <th>Brand</th>\n",
       "      <th>NotRepaired</th>\n",
       "    </tr>\n",
       "  </thead>\n",
       "  <tbody>\n",
       "    <tr>\n",
       "      <td>25945</td>\n",
       "      <td>sedan</td>\n",
       "      <td>manual</td>\n",
       "      <td>0.00660</td>\n",
       "      <td>1.000000</td>\n",
       "      <td>4</td>\n",
       "      <td>petrol</td>\n",
       "      <td>ford</td>\n",
       "      <td>no</td>\n",
       "    </tr>\n",
       "    <tr>\n",
       "      <td>57619</td>\n",
       "      <td>sedan</td>\n",
       "      <td>manual</td>\n",
       "      <td>0.00000</td>\n",
       "      <td>1.000000</td>\n",
       "      <td>6</td>\n",
       "      <td>petrol</td>\n",
       "      <td>mercedes_benz</td>\n",
       "      <td>unknown</td>\n",
       "    </tr>\n",
       "    <tr>\n",
       "      <td>14516</td>\n",
       "      <td>small</td>\n",
       "      <td>manual</td>\n",
       "      <td>0.00375</td>\n",
       "      <td>1.000000</td>\n",
       "      <td>7</td>\n",
       "      <td>petrol</td>\n",
       "      <td>renault</td>\n",
       "      <td>no</td>\n",
       "    </tr>\n",
       "    <tr>\n",
       "      <td>283907</td>\n",
       "      <td>sedan</td>\n",
       "      <td>manual</td>\n",
       "      <td>0.00750</td>\n",
       "      <td>0.448276</td>\n",
       "      <td>10</td>\n",
       "      <td>gasoline</td>\n",
       "      <td>nissan</td>\n",
       "      <td>no</td>\n",
       "    </tr>\n",
       "    <tr>\n",
       "      <td>161548</td>\n",
       "      <td>wagon</td>\n",
       "      <td>manual</td>\n",
       "      <td>0.00550</td>\n",
       "      <td>0.379310</td>\n",
       "      <td>8</td>\n",
       "      <td>gasoline</td>\n",
       "      <td>opel</td>\n",
       "      <td>no</td>\n",
       "    </tr>\n",
       "  </tbody>\n",
       "</table>\n",
       "</div>"
      ],
      "text/plain": [
       "       VehicleType Gearbox    Power  Kilometer  RegistrationMonth  FuelType  \\\n",
       "25945        sedan  manual  0.00660   1.000000                  4    petrol   \n",
       "57619        sedan  manual  0.00000   1.000000                  6    petrol   \n",
       "14516        small  manual  0.00375   1.000000                  7    petrol   \n",
       "283907       sedan  manual  0.00750   0.448276                 10  gasoline   \n",
       "161548       wagon  manual  0.00550   0.379310                  8  gasoline   \n",
       "\n",
       "                Brand NotRepaired  \n",
       "25945            ford          no  \n",
       "57619   mercedes_benz     unknown  \n",
       "14516         renault          no  \n",
       "283907         nissan          no  \n",
       "161548           opel          no  "
      ]
     },
     "execution_count": 86,
     "metadata": {},
     "output_type": "execute_result"
    }
   ],
   "source": [
    "train_x.head()"
   ]
  },
  {
   "cell_type": "code",
   "execution_count": 87,
   "metadata": {},
   "outputs": [],
   "source": [
    "test_x[['Power','Kilometer']] = scaler.fit_transform(test_x[['Power','Kilometer']])"
   ]
  },
  {
   "cell_type": "code",
   "execution_count": 88,
   "metadata": {},
   "outputs": [
    {
     "data": {
      "text/html": [
       "<div>\n",
       "<style scoped>\n",
       "    .dataframe tbody tr th:only-of-type {\n",
       "        vertical-align: middle;\n",
       "    }\n",
       "\n",
       "    .dataframe tbody tr th {\n",
       "        vertical-align: top;\n",
       "    }\n",
       "\n",
       "    .dataframe thead th {\n",
       "        text-align: right;\n",
       "    }\n",
       "</style>\n",
       "<table border=\"1\" class=\"dataframe\">\n",
       "  <thead>\n",
       "    <tr style=\"text-align: right;\">\n",
       "      <th></th>\n",
       "      <th>VehicleType</th>\n",
       "      <th>Gearbox</th>\n",
       "      <th>Power</th>\n",
       "      <th>Kilometer</th>\n",
       "      <th>RegistrationMonth</th>\n",
       "      <th>FuelType</th>\n",
       "      <th>Brand</th>\n",
       "      <th>NotRepaired</th>\n",
       "    </tr>\n",
       "  </thead>\n",
       "  <tbody>\n",
       "    <tr>\n",
       "      <td>18734</td>\n",
       "      <td>bus</td>\n",
       "      <td>auto</td>\n",
       "      <td>0.007809</td>\n",
       "      <td>1.000000</td>\n",
       "      <td>4</td>\n",
       "      <td>gasoline</td>\n",
       "      <td>mercedes_benz</td>\n",
       "      <td>no</td>\n",
       "    </tr>\n",
       "    <tr>\n",
       "      <td>141787</td>\n",
       "      <td>other</td>\n",
       "      <td>manual</td>\n",
       "      <td>0.007445</td>\n",
       "      <td>0.241379</td>\n",
       "      <td>5</td>\n",
       "      <td>gasoline</td>\n",
       "      <td>bmw</td>\n",
       "      <td>no</td>\n",
       "    </tr>\n",
       "    <tr>\n",
       "      <td>37523</td>\n",
       "      <td>sedan</td>\n",
       "      <td>manual</td>\n",
       "      <td>0.006508</td>\n",
       "      <td>1.000000</td>\n",
       "      <td>12</td>\n",
       "      <td>petrol</td>\n",
       "      <td>opel</td>\n",
       "      <td>no</td>\n",
       "    </tr>\n",
       "    <tr>\n",
       "      <td>194192</td>\n",
       "      <td>sedan</td>\n",
       "      <td>auto</td>\n",
       "      <td>0.011662</td>\n",
       "      <td>1.000000</td>\n",
       "      <td>9</td>\n",
       "      <td>gasoline</td>\n",
       "      <td>mercedes_benz</td>\n",
       "      <td>no</td>\n",
       "    </tr>\n",
       "    <tr>\n",
       "      <td>110210</td>\n",
       "      <td>other</td>\n",
       "      <td>manual</td>\n",
       "      <td>0.003540</td>\n",
       "      <td>1.000000</td>\n",
       "      <td>9</td>\n",
       "      <td>gasoline</td>\n",
       "      <td>volkswagen</td>\n",
       "      <td>no</td>\n",
       "    </tr>\n",
       "  </tbody>\n",
       "</table>\n",
       "</div>"
      ],
      "text/plain": [
       "       VehicleType Gearbox     Power  Kilometer  RegistrationMonth  FuelType  \\\n",
       "18734          bus    auto  0.007809   1.000000                  4  gasoline   \n",
       "141787       other  manual  0.007445   0.241379                  5  gasoline   \n",
       "37523        sedan  manual  0.006508   1.000000                 12    petrol   \n",
       "194192       sedan    auto  0.011662   1.000000                  9  gasoline   \n",
       "110210       other  manual  0.003540   1.000000                  9  gasoline   \n",
       "\n",
       "                Brand NotRepaired  \n",
       "18734   mercedes_benz          no  \n",
       "141787            bmw          no  \n",
       "37523            opel          no  \n",
       "194192  mercedes_benz          no  \n",
       "110210     volkswagen          no  "
      ]
     },
     "execution_count": 88,
     "metadata": {},
     "output_type": "execute_result"
    }
   ],
   "source": [
    "test_x.head()"
   ]
  },
  {
   "cell_type": "markdown",
   "metadata": {},
   "source": [
    "##  Обучение градиентного бустинга"
   ]
  },
  {
   "cell_type": "markdown",
   "metadata": {},
   "source": [
    "\n",
    "###  Кодирование признаков "
   ]
  },
  {
   "cell_type": "code",
   "execution_count": 89,
   "metadata": {},
   "outputs": [],
   "source": [
    "train_x['RegistrationMonth'] = train_x['RegistrationMonth'].astype('category')"
   ]
  },
  {
   "cell_type": "code",
   "execution_count": 90,
   "metadata": {},
   "outputs": [],
   "source": [
    "train_x[train_x.select_dtypes(['object']).columns] = train_x.select_dtypes(['object']).apply(lambda x: x.astype('category'))"
   ]
  },
  {
   "cell_type": "code",
   "execution_count": 91,
   "metadata": {},
   "outputs": [
    {
     "name": "stdout",
     "output_type": "stream",
     "text": [
      "<class 'pandas.core.frame.DataFrame'>\n",
      "Int64Index: 265776 entries, 25945 to 217570\n",
      "Data columns (total 8 columns):\n",
      "VehicleType          265776 non-null category\n",
      "Gearbox              265776 non-null category\n",
      "Power                265776 non-null float64\n",
      "Kilometer            265776 non-null float64\n",
      "RegistrationMonth    265776 non-null category\n",
      "FuelType             265776 non-null category\n",
      "Brand                265776 non-null category\n",
      "NotRepaired          265776 non-null category\n",
      "dtypes: category(6), float64(2)\n",
      "memory usage: 7.6 MB\n"
     ]
    }
   ],
   "source": [
    "train_x.info()"
   ]
  },
  {
   "cell_type": "code",
   "execution_count": 92,
   "metadata": {},
   "outputs": [],
   "source": [
    "test_x['RegistrationMonth'] = test_x['RegistrationMonth'].astype('category')"
   ]
  },
  {
   "cell_type": "code",
   "execution_count": 93,
   "metadata": {},
   "outputs": [],
   "source": [
    "test_x[test_x.select_dtypes(['object']).columns] = test_x.select_dtypes(['object']).apply(lambda x: x.astype('category'))"
   ]
  },
  {
   "cell_type": "code",
   "execution_count": 94,
   "metadata": {},
   "outputs": [
    {
     "name": "stdout",
     "output_type": "stream",
     "text": [
      "<class 'pandas.core.frame.DataFrame'>\n",
      "Int64Index: 88593 entries, 18734 to 55185\n",
      "Data columns (total 8 columns):\n",
      "VehicleType          88593 non-null category\n",
      "Gearbox              88593 non-null category\n",
      "Power                88593 non-null float64\n",
      "Kilometer            88593 non-null float64\n",
      "RegistrationMonth    88593 non-null category\n",
      "FuelType             88593 non-null category\n",
      "Brand                88593 non-null category\n",
      "NotRepaired          88593 non-null category\n",
      "dtypes: category(6), float64(2)\n",
      "memory usage: 2.5 MB\n"
     ]
    }
   ],
   "source": [
    "test_x.info()"
   ]
  },
  {
   "cell_type": "markdown",
   "metadata": {},
   "source": [
    "###  Обучение модели"
   ]
  },
  {
   "cell_type": "code",
   "execution_count": 95,
   "metadata": {},
   "outputs": [],
   "source": [
    "parametrs = {\n",
    "    'learning_rate': [0.4, 0.1],\n",
    "    'random_state':[12345]\n",
    "}"
   ]
  },
  {
   "cell_type": "code",
   "execution_count": 96,
   "metadata": {},
   "outputs": [],
   "source": [
    "model = LGBMRegressor"
   ]
  },
  {
   "cell_type": "code",
   "execution_count": 97,
   "metadata": {},
   "outputs": [],
   "source": [
    "result = my_GridSearchCV(model, parametrs)"
   ]
  },
  {
   "cell_type": "code",
   "execution_count": 98,
   "metadata": {},
   "outputs": [],
   "source": [
    "grid_report = grid_report.append(result)"
   ]
  },
  {
   "cell_type": "code",
   "execution_count": 99,
   "metadata": {},
   "outputs": [
    {
     "data": {
      "text/html": [
       "<div>\n",
       "<style scoped>\n",
       "    .dataframe tbody tr th:only-of-type {\n",
       "        vertical-align: middle;\n",
       "    }\n",
       "\n",
       "    .dataframe tbody tr th {\n",
       "        vertical-align: top;\n",
       "    }\n",
       "\n",
       "    .dataframe thead th {\n",
       "        text-align: right;\n",
       "    }\n",
       "</style>\n",
       "<table border=\"1\" class=\"dataframe\">\n",
       "  <thead>\n",
       "    <tr style=\"text-align: right;\">\n",
       "      <th></th>\n",
       "      <th>model</th>\n",
       "      <th>train_time</th>\n",
       "      <th>predict_time</th>\n",
       "      <th>rmse</th>\n",
       "      <th>rmse_on_test</th>\n",
       "      <th>params</th>\n",
       "    </tr>\n",
       "  </thead>\n",
       "  <tbody>\n",
       "    <tr>\n",
       "      <td>0</td>\n",
       "      <td>LGBMRegressor</td>\n",
       "      <td>12.301873</td>\n",
       "      <td>0.710386</td>\n",
       "      <td>2345.600139</td>\n",
       "      <td>2819.55481</td>\n",
       "      <td>{'learning_rate': 0.4, 'random_state': 12345}</td>\n",
       "    </tr>\n",
       "  </tbody>\n",
       "</table>\n",
       "</div>"
      ],
      "text/plain": [
       "           model  train_time  predict_time         rmse  rmse_on_test  \\\n",
       "0  LGBMRegressor   12.301873      0.710386  2345.600139    2819.55481   \n",
       "\n",
       "                                          params  \n",
       "0  {'learning_rate': 0.4, 'random_state': 12345}  "
      ]
     },
     "execution_count": 99,
     "metadata": {},
     "output_type": "execute_result"
    }
   ],
   "source": [
    "grid_report"
   ]
  },
  {
   "cell_type": "markdown",
   "metadata": {},
   "source": [
    "##  Обучение других моделей "
   ]
  },
  {
   "cell_type": "markdown",
   "metadata": {},
   "source": [
    "###  Кодирование признаков "
   ]
  },
  {
   "cell_type": "markdown",
   "metadata": {},
   "source": [
    "Для остальных моделей данное кодирование не подходит. Перекодируем признаки в фиктивные переменные "
   ]
  },
  {
   "cell_type": "code",
   "execution_count": 100,
   "metadata": {},
   "outputs": [
    {
     "name": "stdout",
     "output_type": "stream",
     "text": [
      "<class 'pandas.core.frame.DataFrame'>\n",
      "RangeIndex: 354369 entries, 0 to 354368\n",
      "Data columns (total 9 columns):\n",
      "Price                354369 non-null int64\n",
      "VehicleType          354369 non-null object\n",
      "Gearbox              354369 non-null object\n",
      "Power                354369 non-null int64\n",
      "Kilometer            354369 non-null int64\n",
      "RegistrationMonth    354369 non-null int64\n",
      "FuelType             354369 non-null object\n",
      "Brand                354369 non-null object\n",
      "NotRepaired          354369 non-null object\n",
      "dtypes: int64(4), object(5)\n",
      "memory usage: 24.3+ MB\n"
     ]
    }
   ],
   "source": [
    "data.info()"
   ]
  },
  {
   "cell_type": "code",
   "execution_count": 101,
   "metadata": {},
   "outputs": [
    {
     "data": {
      "text/plain": [
       "array(['sedan', 'coupe', 'suv', 'small', 'convertible', 'bus', 'wagon',\n",
       "       'other'], dtype=object)"
      ]
     },
     "execution_count": 101,
     "metadata": {},
     "output_type": "execute_result"
    }
   ],
   "source": [
    "data['VehicleType'].unique()"
   ]
  },
  {
   "cell_type": "code",
   "execution_count": 102,
   "metadata": {},
   "outputs": [
    {
     "data": {
      "text/plain": [
       "array(['manual', 'auto', 'unknown'], dtype=object)"
      ]
     },
     "execution_count": 102,
     "metadata": {},
     "output_type": "execute_result"
    }
   ],
   "source": [
    "data['Gearbox'].unique()"
   ]
  },
  {
   "cell_type": "code",
   "execution_count": 103,
   "metadata": {},
   "outputs": [
    {
     "data": {
      "text/plain": [
       "array([ 0,  5,  8,  6,  7, 10, 12, 11,  2,  3,  1,  4,  9])"
      ]
     },
     "execution_count": 103,
     "metadata": {},
     "output_type": "execute_result"
    }
   ],
   "source": [
    "data['RegistrationMonth'].unique()"
   ]
  },
  {
   "cell_type": "markdown",
   "metadata": {},
   "source": [
    "Когда пользователь не знал что ставить, он ставил 0 (0 — собирательное значения)"
   ]
  },
  {
   "cell_type": "code",
   "execution_count": 104,
   "metadata": {},
   "outputs": [
    {
     "data": {
      "text/plain": [
       "array(['petrol', 'gasoline', 'lpg', 'other', 'hybrid', 'cng', 'electric'],\n",
       "      dtype=object)"
      ]
     },
     "execution_count": 104,
     "metadata": {},
     "output_type": "execute_result"
    }
   ],
   "source": [
    "data['FuelType'].unique()"
   ]
  },
  {
   "cell_type": "code",
   "execution_count": 105,
   "metadata": {},
   "outputs": [
    {
     "data": {
      "text/plain": [
       "array(['volkswagen', 'audi', 'jeep', 'skoda', 'bmw', 'peugeot', 'ford',\n",
       "       'mazda', 'nissan', 'renault', 'mercedes_benz', 'opel', 'seat',\n",
       "       'citroen', 'honda', 'fiat', 'mini', 'smart', 'hyundai',\n",
       "       'sonstige_autos', 'alfa_romeo', 'subaru', 'volvo', 'mitsubishi',\n",
       "       'kia', 'suzuki', 'lancia', 'toyota', 'chevrolet', 'dacia',\n",
       "       'daihatsu', 'trabant', 'saab', 'chrysler', 'jaguar', 'daewoo',\n",
       "       'porsche', 'rover', 'land_rover', 'lada'], dtype=object)"
      ]
     },
     "execution_count": 105,
     "metadata": {},
     "output_type": "execute_result"
    }
   ],
   "source": [
    "data['Brand'].unique()"
   ]
  },
  {
   "cell_type": "code",
   "execution_count": 106,
   "metadata": {},
   "outputs": [
    {
     "data": {
      "text/plain": [
       "array(['unknown', 'yes', 'no'], dtype=object)"
      ]
     },
     "execution_count": 106,
     "metadata": {},
     "output_type": "execute_result"
    }
   ],
   "source": [
    "data['NotRepaired'].unique()"
   ]
  },
  {
   "cell_type": "markdown",
   "metadata": {},
   "source": [
    "Когда пользователь не знал что ставить, он ставил 0 (0 — собирательное значения)"
   ]
  },
  {
   "cell_type": "markdown",
   "metadata": {},
   "source": [
    "#### Вывод "
   ]
  },
  {
   "cell_type": "markdown",
   "metadata": {},
   "source": [
    "Все поля имеют собирательное значения необходимо при кодировании необходимо удалить одно из значений чтобы избежать ловушки "
   ]
  },
  {
   "cell_type": "code",
   "execution_count": 107,
   "metadata": {},
   "outputs": [],
   "source": [
    "columnsToEncode=train_x.select_dtypes(include=['category']).columns"
   ]
  },
  {
   "cell_type": "code",
   "execution_count": 108,
   "metadata": {},
   "outputs": [],
   "source": [
    "train_x = pd.get_dummies(train_x, columns=columnsToEncode, drop_first=True)\n",
    "test_x = pd.get_dummies(test_x, columns=columnsToEncode, drop_first=True)"
   ]
  },
  {
   "cell_type": "code",
   "execution_count": 109,
   "metadata": {},
   "outputs": [
    {
     "data": {
      "text/html": [
       "<div>\n",
       "<style scoped>\n",
       "    .dataframe tbody tr th:only-of-type {\n",
       "        vertical-align: middle;\n",
       "    }\n",
       "\n",
       "    .dataframe tbody tr th {\n",
       "        vertical-align: top;\n",
       "    }\n",
       "\n",
       "    .dataframe thead th {\n",
       "        text-align: right;\n",
       "    }\n",
       "</style>\n",
       "<table border=\"1\" class=\"dataframe\">\n",
       "  <thead>\n",
       "    <tr style=\"text-align: right;\">\n",
       "      <th></th>\n",
       "      <th>Power</th>\n",
       "      <th>Kilometer</th>\n",
       "      <th>VehicleType_convertible</th>\n",
       "      <th>VehicleType_coupe</th>\n",
       "      <th>VehicleType_other</th>\n",
       "      <th>VehicleType_sedan</th>\n",
       "      <th>VehicleType_small</th>\n",
       "      <th>VehicleType_suv</th>\n",
       "      <th>VehicleType_wagon</th>\n",
       "      <th>Gearbox_manual</th>\n",
       "      <th>...</th>\n",
       "      <th>Brand_smart</th>\n",
       "      <th>Brand_sonstige_autos</th>\n",
       "      <th>Brand_subaru</th>\n",
       "      <th>Brand_suzuki</th>\n",
       "      <th>Brand_toyota</th>\n",
       "      <th>Brand_trabant</th>\n",
       "      <th>Brand_volkswagen</th>\n",
       "      <th>Brand_volvo</th>\n",
       "      <th>NotRepaired_unknown</th>\n",
       "      <th>NotRepaired_yes</th>\n",
       "    </tr>\n",
       "  </thead>\n",
       "  <tbody>\n",
       "    <tr>\n",
       "      <td>25945</td>\n",
       "      <td>0.00660</td>\n",
       "      <td>1.000000</td>\n",
       "      <td>0</td>\n",
       "      <td>0</td>\n",
       "      <td>0</td>\n",
       "      <td>1</td>\n",
       "      <td>0</td>\n",
       "      <td>0</td>\n",
       "      <td>0</td>\n",
       "      <td>1</td>\n",
       "      <td>...</td>\n",
       "      <td>0</td>\n",
       "      <td>0</td>\n",
       "      <td>0</td>\n",
       "      <td>0</td>\n",
       "      <td>0</td>\n",
       "      <td>0</td>\n",
       "      <td>0</td>\n",
       "      <td>0</td>\n",
       "      <td>0</td>\n",
       "      <td>0</td>\n",
       "    </tr>\n",
       "    <tr>\n",
       "      <td>57619</td>\n",
       "      <td>0.00000</td>\n",
       "      <td>1.000000</td>\n",
       "      <td>0</td>\n",
       "      <td>0</td>\n",
       "      <td>0</td>\n",
       "      <td>1</td>\n",
       "      <td>0</td>\n",
       "      <td>0</td>\n",
       "      <td>0</td>\n",
       "      <td>1</td>\n",
       "      <td>...</td>\n",
       "      <td>0</td>\n",
       "      <td>0</td>\n",
       "      <td>0</td>\n",
       "      <td>0</td>\n",
       "      <td>0</td>\n",
       "      <td>0</td>\n",
       "      <td>0</td>\n",
       "      <td>0</td>\n",
       "      <td>1</td>\n",
       "      <td>0</td>\n",
       "    </tr>\n",
       "    <tr>\n",
       "      <td>14516</td>\n",
       "      <td>0.00375</td>\n",
       "      <td>1.000000</td>\n",
       "      <td>0</td>\n",
       "      <td>0</td>\n",
       "      <td>0</td>\n",
       "      <td>0</td>\n",
       "      <td>1</td>\n",
       "      <td>0</td>\n",
       "      <td>0</td>\n",
       "      <td>1</td>\n",
       "      <td>...</td>\n",
       "      <td>0</td>\n",
       "      <td>0</td>\n",
       "      <td>0</td>\n",
       "      <td>0</td>\n",
       "      <td>0</td>\n",
       "      <td>0</td>\n",
       "      <td>0</td>\n",
       "      <td>0</td>\n",
       "      <td>0</td>\n",
       "      <td>0</td>\n",
       "    </tr>\n",
       "    <tr>\n",
       "      <td>283907</td>\n",
       "      <td>0.00750</td>\n",
       "      <td>0.448276</td>\n",
       "      <td>0</td>\n",
       "      <td>0</td>\n",
       "      <td>0</td>\n",
       "      <td>1</td>\n",
       "      <td>0</td>\n",
       "      <td>0</td>\n",
       "      <td>0</td>\n",
       "      <td>1</td>\n",
       "      <td>...</td>\n",
       "      <td>0</td>\n",
       "      <td>0</td>\n",
       "      <td>0</td>\n",
       "      <td>0</td>\n",
       "      <td>0</td>\n",
       "      <td>0</td>\n",
       "      <td>0</td>\n",
       "      <td>0</td>\n",
       "      <td>0</td>\n",
       "      <td>0</td>\n",
       "    </tr>\n",
       "    <tr>\n",
       "      <td>161548</td>\n",
       "      <td>0.00550</td>\n",
       "      <td>0.379310</td>\n",
       "      <td>0</td>\n",
       "      <td>0</td>\n",
       "      <td>0</td>\n",
       "      <td>0</td>\n",
       "      <td>0</td>\n",
       "      <td>0</td>\n",
       "      <td>1</td>\n",
       "      <td>1</td>\n",
       "      <td>...</td>\n",
       "      <td>0</td>\n",
       "      <td>0</td>\n",
       "      <td>0</td>\n",
       "      <td>0</td>\n",
       "      <td>0</td>\n",
       "      <td>0</td>\n",
       "      <td>0</td>\n",
       "      <td>0</td>\n",
       "      <td>0</td>\n",
       "      <td>0</td>\n",
       "    </tr>\n",
       "  </tbody>\n",
       "</table>\n",
       "<p>5 rows × 70 columns</p>\n",
       "</div>"
      ],
      "text/plain": [
       "          Power  Kilometer  VehicleType_convertible  VehicleType_coupe  \\\n",
       "25945   0.00660   1.000000                        0                  0   \n",
       "57619   0.00000   1.000000                        0                  0   \n",
       "14516   0.00375   1.000000                        0                  0   \n",
       "283907  0.00750   0.448276                        0                  0   \n",
       "161548  0.00550   0.379310                        0                  0   \n",
       "\n",
       "        VehicleType_other  VehicleType_sedan  VehicleType_small  \\\n",
       "25945                   0                  1                  0   \n",
       "57619                   0                  1                  0   \n",
       "14516                   0                  0                  1   \n",
       "283907                  0                  1                  0   \n",
       "161548                  0                  0                  0   \n",
       "\n",
       "        VehicleType_suv  VehicleType_wagon  Gearbox_manual  ...  Brand_smart  \\\n",
       "25945                 0                  0               1  ...            0   \n",
       "57619                 0                  0               1  ...            0   \n",
       "14516                 0                  0               1  ...            0   \n",
       "283907                0                  0               1  ...            0   \n",
       "161548                0                  1               1  ...            0   \n",
       "\n",
       "        Brand_sonstige_autos  Brand_subaru  Brand_suzuki  Brand_toyota  \\\n",
       "25945                      0             0             0             0   \n",
       "57619                      0             0             0             0   \n",
       "14516                      0             0             0             0   \n",
       "283907                     0             0             0             0   \n",
       "161548                     0             0             0             0   \n",
       "\n",
       "        Brand_trabant  Brand_volkswagen  Brand_volvo  NotRepaired_unknown  \\\n",
       "25945               0                 0            0                    0   \n",
       "57619               0                 0            0                    1   \n",
       "14516               0                 0            0                    0   \n",
       "283907              0                 0            0                    0   \n",
       "161548              0                 0            0                    0   \n",
       "\n",
       "        NotRepaired_yes  \n",
       "25945                 0  \n",
       "57619                 0  \n",
       "14516                 0  \n",
       "283907                0  \n",
       "161548                0  \n",
       "\n",
       "[5 rows x 70 columns]"
      ]
     },
     "execution_count": 109,
     "metadata": {},
     "output_type": "execute_result"
    }
   ],
   "source": [
    "train_x.head()"
   ]
  },
  {
   "cell_type": "code",
   "execution_count": 110,
   "metadata": {},
   "outputs": [
    {
     "data": {
      "text/html": [
       "<div>\n",
       "<style scoped>\n",
       "    .dataframe tbody tr th:only-of-type {\n",
       "        vertical-align: middle;\n",
       "    }\n",
       "\n",
       "    .dataframe tbody tr th {\n",
       "        vertical-align: top;\n",
       "    }\n",
       "\n",
       "    .dataframe thead th {\n",
       "        text-align: right;\n",
       "    }\n",
       "</style>\n",
       "<table border=\"1\" class=\"dataframe\">\n",
       "  <thead>\n",
       "    <tr style=\"text-align: right;\">\n",
       "      <th></th>\n",
       "      <th>Power</th>\n",
       "      <th>Kilometer</th>\n",
       "      <th>VehicleType_convertible</th>\n",
       "      <th>VehicleType_coupe</th>\n",
       "      <th>VehicleType_other</th>\n",
       "      <th>VehicleType_sedan</th>\n",
       "      <th>VehicleType_small</th>\n",
       "      <th>VehicleType_suv</th>\n",
       "      <th>VehicleType_wagon</th>\n",
       "      <th>Gearbox_manual</th>\n",
       "      <th>...</th>\n",
       "      <th>Brand_smart</th>\n",
       "      <th>Brand_sonstige_autos</th>\n",
       "      <th>Brand_subaru</th>\n",
       "      <th>Brand_suzuki</th>\n",
       "      <th>Brand_toyota</th>\n",
       "      <th>Brand_trabant</th>\n",
       "      <th>Brand_volkswagen</th>\n",
       "      <th>Brand_volvo</th>\n",
       "      <th>NotRepaired_unknown</th>\n",
       "      <th>NotRepaired_yes</th>\n",
       "    </tr>\n",
       "  </thead>\n",
       "  <tbody>\n",
       "    <tr>\n",
       "      <td>18734</td>\n",
       "      <td>0.007809</td>\n",
       "      <td>1.000000</td>\n",
       "      <td>0</td>\n",
       "      <td>0</td>\n",
       "      <td>0</td>\n",
       "      <td>0</td>\n",
       "      <td>0</td>\n",
       "      <td>0</td>\n",
       "      <td>0</td>\n",
       "      <td>0</td>\n",
       "      <td>...</td>\n",
       "      <td>0</td>\n",
       "      <td>0</td>\n",
       "      <td>0</td>\n",
       "      <td>0</td>\n",
       "      <td>0</td>\n",
       "      <td>0</td>\n",
       "      <td>0</td>\n",
       "      <td>0</td>\n",
       "      <td>0</td>\n",
       "      <td>0</td>\n",
       "    </tr>\n",
       "    <tr>\n",
       "      <td>141787</td>\n",
       "      <td>0.007445</td>\n",
       "      <td>0.241379</td>\n",
       "      <td>0</td>\n",
       "      <td>0</td>\n",
       "      <td>1</td>\n",
       "      <td>0</td>\n",
       "      <td>0</td>\n",
       "      <td>0</td>\n",
       "      <td>0</td>\n",
       "      <td>1</td>\n",
       "      <td>...</td>\n",
       "      <td>0</td>\n",
       "      <td>0</td>\n",
       "      <td>0</td>\n",
       "      <td>0</td>\n",
       "      <td>0</td>\n",
       "      <td>0</td>\n",
       "      <td>0</td>\n",
       "      <td>0</td>\n",
       "      <td>0</td>\n",
       "      <td>0</td>\n",
       "    </tr>\n",
       "    <tr>\n",
       "      <td>37523</td>\n",
       "      <td>0.006508</td>\n",
       "      <td>1.000000</td>\n",
       "      <td>0</td>\n",
       "      <td>0</td>\n",
       "      <td>0</td>\n",
       "      <td>1</td>\n",
       "      <td>0</td>\n",
       "      <td>0</td>\n",
       "      <td>0</td>\n",
       "      <td>1</td>\n",
       "      <td>...</td>\n",
       "      <td>0</td>\n",
       "      <td>0</td>\n",
       "      <td>0</td>\n",
       "      <td>0</td>\n",
       "      <td>0</td>\n",
       "      <td>0</td>\n",
       "      <td>0</td>\n",
       "      <td>0</td>\n",
       "      <td>0</td>\n",
       "      <td>0</td>\n",
       "    </tr>\n",
       "    <tr>\n",
       "      <td>194192</td>\n",
       "      <td>0.011662</td>\n",
       "      <td>1.000000</td>\n",
       "      <td>0</td>\n",
       "      <td>0</td>\n",
       "      <td>0</td>\n",
       "      <td>1</td>\n",
       "      <td>0</td>\n",
       "      <td>0</td>\n",
       "      <td>0</td>\n",
       "      <td>0</td>\n",
       "      <td>...</td>\n",
       "      <td>0</td>\n",
       "      <td>0</td>\n",
       "      <td>0</td>\n",
       "      <td>0</td>\n",
       "      <td>0</td>\n",
       "      <td>0</td>\n",
       "      <td>0</td>\n",
       "      <td>0</td>\n",
       "      <td>0</td>\n",
       "      <td>0</td>\n",
       "    </tr>\n",
       "    <tr>\n",
       "      <td>110210</td>\n",
       "      <td>0.003540</td>\n",
       "      <td>1.000000</td>\n",
       "      <td>0</td>\n",
       "      <td>0</td>\n",
       "      <td>1</td>\n",
       "      <td>0</td>\n",
       "      <td>0</td>\n",
       "      <td>0</td>\n",
       "      <td>0</td>\n",
       "      <td>1</td>\n",
       "      <td>...</td>\n",
       "      <td>0</td>\n",
       "      <td>0</td>\n",
       "      <td>0</td>\n",
       "      <td>0</td>\n",
       "      <td>0</td>\n",
       "      <td>0</td>\n",
       "      <td>1</td>\n",
       "      <td>0</td>\n",
       "      <td>0</td>\n",
       "      <td>0</td>\n",
       "    </tr>\n",
       "  </tbody>\n",
       "</table>\n",
       "<p>5 rows × 70 columns</p>\n",
       "</div>"
      ],
      "text/plain": [
       "           Power  Kilometer  VehicleType_convertible  VehicleType_coupe  \\\n",
       "18734   0.007809   1.000000                        0                  0   \n",
       "141787  0.007445   0.241379                        0                  0   \n",
       "37523   0.006508   1.000000                        0                  0   \n",
       "194192  0.011662   1.000000                        0                  0   \n",
       "110210  0.003540   1.000000                        0                  0   \n",
       "\n",
       "        VehicleType_other  VehicleType_sedan  VehicleType_small  \\\n",
       "18734                   0                  0                  0   \n",
       "141787                  1                  0                  0   \n",
       "37523                   0                  1                  0   \n",
       "194192                  0                  1                  0   \n",
       "110210                  1                  0                  0   \n",
       "\n",
       "        VehicleType_suv  VehicleType_wagon  Gearbox_manual  ...  Brand_smart  \\\n",
       "18734                 0                  0               0  ...            0   \n",
       "141787                0                  0               1  ...            0   \n",
       "37523                 0                  0               1  ...            0   \n",
       "194192                0                  0               0  ...            0   \n",
       "110210                0                  0               1  ...            0   \n",
       "\n",
       "        Brand_sonstige_autos  Brand_subaru  Brand_suzuki  Brand_toyota  \\\n",
       "18734                      0             0             0             0   \n",
       "141787                     0             0             0             0   \n",
       "37523                      0             0             0             0   \n",
       "194192                     0             0             0             0   \n",
       "110210                     0             0             0             0   \n",
       "\n",
       "        Brand_trabant  Brand_volkswagen  Brand_volvo  NotRepaired_unknown  \\\n",
       "18734               0                 0            0                    0   \n",
       "141787              0                 0            0                    0   \n",
       "37523               0                 0            0                    0   \n",
       "194192              0                 0            0                    0   \n",
       "110210              0                 1            0                    0   \n",
       "\n",
       "        NotRepaired_yes  \n",
       "18734                 0  \n",
       "141787                0  \n",
       "37523                 0  \n",
       "194192                0  \n",
       "110210                0  \n",
       "\n",
       "[5 rows x 70 columns]"
      ]
     },
     "execution_count": 110,
     "metadata": {},
     "output_type": "execute_result"
    }
   ],
   "source": [
    "test_x.head()"
   ]
  },
  {
   "cell_type": "markdown",
   "metadata": {},
   "source": [
    "### Простой регрессор  "
   ]
  },
  {
   "cell_type": "code",
   "execution_count": 111,
   "metadata": {},
   "outputs": [],
   "source": [
    "parametrs = { 'strategy': ('mean', 'median') }"
   ]
  },
  {
   "cell_type": "code",
   "execution_count": 112,
   "metadata": {},
   "outputs": [],
   "source": [
    "model = DummyRegressor"
   ]
  },
  {
   "cell_type": "code",
   "execution_count": 113,
   "metadata": {},
   "outputs": [],
   "source": [
    "result = my_GridSearchCV(model, parametrs)"
   ]
  },
  {
   "cell_type": "code",
   "execution_count": 114,
   "metadata": {},
   "outputs": [],
   "source": [
    "grid_report = grid_report.append(result)"
   ]
  },
  {
   "cell_type": "code",
   "execution_count": 115,
   "metadata": {},
   "outputs": [
    {
     "data": {
      "text/html": [
       "<div>\n",
       "<style scoped>\n",
       "    .dataframe tbody tr th:only-of-type {\n",
       "        vertical-align: middle;\n",
       "    }\n",
       "\n",
       "    .dataframe tbody tr th {\n",
       "        vertical-align: top;\n",
       "    }\n",
       "\n",
       "    .dataframe thead th {\n",
       "        text-align: right;\n",
       "    }\n",
       "</style>\n",
       "<table border=\"1\" class=\"dataframe\">\n",
       "  <thead>\n",
       "    <tr style=\"text-align: right;\">\n",
       "      <th></th>\n",
       "      <th>model</th>\n",
       "      <th>train_time</th>\n",
       "      <th>predict_time</th>\n",
       "      <th>rmse</th>\n",
       "      <th>rmse_on_test</th>\n",
       "      <th>params</th>\n",
       "    </tr>\n",
       "  </thead>\n",
       "  <tbody>\n",
       "    <tr>\n",
       "      <td>0</td>\n",
       "      <td>LGBMRegressor</td>\n",
       "      <td>12.301873</td>\n",
       "      <td>0.710386</td>\n",
       "      <td>2345.600139</td>\n",
       "      <td>2819.55481</td>\n",
       "      <td>{'learning_rate': 0.4, 'random_state': 12345}</td>\n",
       "    </tr>\n",
       "    <tr>\n",
       "      <td>0</td>\n",
       "      <td>DummyRegressor</td>\n",
       "      <td>0.000545</td>\n",
       "      <td>0.000346</td>\n",
       "      <td>4511.068184</td>\n",
       "      <td>4523.41958</td>\n",
       "      <td>{'strategy': 'mean'}</td>\n",
       "    </tr>\n",
       "  </tbody>\n",
       "</table>\n",
       "</div>"
      ],
      "text/plain": [
       "            model  train_time  predict_time         rmse  rmse_on_test  \\\n",
       "0   LGBMRegressor   12.301873      0.710386  2345.600139    2819.55481   \n",
       "0  DummyRegressor    0.000545      0.000346  4511.068184    4523.41958   \n",
       "\n",
       "                                          params  \n",
       "0  {'learning_rate': 0.4, 'random_state': 12345}  \n",
       "0                           {'strategy': 'mean'}  "
      ]
     },
     "execution_count": 115,
     "metadata": {},
     "output_type": "execute_result"
    }
   ],
   "source": [
    "grid_report"
   ]
  },
  {
   "cell_type": "markdown",
   "metadata": {},
   "source": [
    "### Линейная регрессия "
   ]
  },
  {
   "cell_type": "code",
   "execution_count": 116,
   "metadata": {},
   "outputs": [],
   "source": [
    "parametrs = {'fit_intercept': ('True', 'False'), 'normalize' :('False','True')}"
   ]
  },
  {
   "cell_type": "code",
   "execution_count": 117,
   "metadata": {},
   "outputs": [],
   "source": [
    "model = LinearRegression"
   ]
  },
  {
   "cell_type": "code",
   "execution_count": 118,
   "metadata": {},
   "outputs": [],
   "source": [
    "result = my_GridSearchCV(model, parametrs)"
   ]
  },
  {
   "cell_type": "code",
   "execution_count": 119,
   "metadata": {},
   "outputs": [],
   "source": [
    "grid_report = grid_report.append(result)"
   ]
  },
  {
   "cell_type": "code",
   "execution_count": 120,
   "metadata": {},
   "outputs": [
    {
     "data": {
      "text/html": [
       "<div>\n",
       "<style scoped>\n",
       "    .dataframe tbody tr th:only-of-type {\n",
       "        vertical-align: middle;\n",
       "    }\n",
       "\n",
       "    .dataframe tbody tr th {\n",
       "        vertical-align: top;\n",
       "    }\n",
       "\n",
       "    .dataframe thead th {\n",
       "        text-align: right;\n",
       "    }\n",
       "</style>\n",
       "<table border=\"1\" class=\"dataframe\">\n",
       "  <thead>\n",
       "    <tr style=\"text-align: right;\">\n",
       "      <th></th>\n",
       "      <th>model</th>\n",
       "      <th>train_time</th>\n",
       "      <th>predict_time</th>\n",
       "      <th>rmse</th>\n",
       "      <th>rmse_on_test</th>\n",
       "      <th>params</th>\n",
       "    </tr>\n",
       "  </thead>\n",
       "  <tbody>\n",
       "    <tr>\n",
       "      <td>0</td>\n",
       "      <td>LGBMRegressor</td>\n",
       "      <td>12.301873</td>\n",
       "      <td>0.710386</td>\n",
       "      <td>2345.600139</td>\n",
       "      <td>2819.554810</td>\n",
       "      <td>{'learning_rate': 0.4, 'random_state': 12345}</td>\n",
       "    </tr>\n",
       "    <tr>\n",
       "      <td>0</td>\n",
       "      <td>DummyRegressor</td>\n",
       "      <td>0.000545</td>\n",
       "      <td>0.000346</td>\n",
       "      <td>4511.068184</td>\n",
       "      <td>4523.419580</td>\n",
       "      <td>{'strategy': 'mean'}</td>\n",
       "    </tr>\n",
       "    <tr>\n",
       "      <td>0</td>\n",
       "      <td>LinearRegression</td>\n",
       "      <td>5.593152</td>\n",
       "      <td>0.121256</td>\n",
       "      <td>3348.484177</td>\n",
       "      <td>3345.900692</td>\n",
       "      <td>{'fit_intercept': 'True', 'normalize': 'False'}</td>\n",
       "    </tr>\n",
       "  </tbody>\n",
       "</table>\n",
       "</div>"
      ],
      "text/plain": [
       "              model  train_time  predict_time         rmse  rmse_on_test  \\\n",
       "0     LGBMRegressor   12.301873      0.710386  2345.600139   2819.554810   \n",
       "0    DummyRegressor    0.000545      0.000346  4511.068184   4523.419580   \n",
       "0  LinearRegression    5.593152      0.121256  3348.484177   3345.900692   \n",
       "\n",
       "                                            params  \n",
       "0    {'learning_rate': 0.4, 'random_state': 12345}  \n",
       "0                             {'strategy': 'mean'}  \n",
       "0  {'fit_intercept': 'True', 'normalize': 'False'}  "
      ]
     },
     "execution_count": 120,
     "metadata": {},
     "output_type": "execute_result"
    }
   ],
   "source": [
    "grid_report"
   ]
  },
  {
   "cell_type": "markdown",
   "metadata": {},
   "source": [
    "### Решающие дерево"
   ]
  },
  {
   "cell_type": "code",
   "execution_count": 121,
   "metadata": {},
   "outputs": [],
   "source": [
    "parametrs = {'max_depth' : range(10, 50, 20), 'random_state':[12345]}"
   ]
  },
  {
   "cell_type": "code",
   "execution_count": 122,
   "metadata": {},
   "outputs": [],
   "source": [
    "model = DecisionTreeRegressor"
   ]
  },
  {
   "cell_type": "code",
   "execution_count": 123,
   "metadata": {},
   "outputs": [],
   "source": [
    "result = my_GridSearchCV(model, parametrs)"
   ]
  },
  {
   "cell_type": "code",
   "execution_count": 124,
   "metadata": {},
   "outputs": [],
   "source": [
    "grid_report = grid_report.append(result)"
   ]
  },
  {
   "cell_type": "code",
   "execution_count": 125,
   "metadata": {},
   "outputs": [
    {
     "data": {
      "text/html": [
       "<div>\n",
       "<style scoped>\n",
       "    .dataframe tbody tr th:only-of-type {\n",
       "        vertical-align: middle;\n",
       "    }\n",
       "\n",
       "    .dataframe tbody tr th {\n",
       "        vertical-align: top;\n",
       "    }\n",
       "\n",
       "    .dataframe thead th {\n",
       "        text-align: right;\n",
       "    }\n",
       "</style>\n",
       "<table border=\"1\" class=\"dataframe\">\n",
       "  <thead>\n",
       "    <tr style=\"text-align: right;\">\n",
       "      <th></th>\n",
       "      <th>model</th>\n",
       "      <th>train_time</th>\n",
       "      <th>predict_time</th>\n",
       "      <th>rmse</th>\n",
       "      <th>rmse_on_test</th>\n",
       "      <th>params</th>\n",
       "    </tr>\n",
       "  </thead>\n",
       "  <tbody>\n",
       "    <tr>\n",
       "      <td>0</td>\n",
       "      <td>LGBMRegressor</td>\n",
       "      <td>12.301873</td>\n",
       "      <td>0.710386</td>\n",
       "      <td>2345.600139</td>\n",
       "      <td>2819.554810</td>\n",
       "      <td>{'learning_rate': 0.4, 'random_state': 12345}</td>\n",
       "    </tr>\n",
       "    <tr>\n",
       "      <td>0</td>\n",
       "      <td>DummyRegressor</td>\n",
       "      <td>0.000545</td>\n",
       "      <td>0.000346</td>\n",
       "      <td>4511.068184</td>\n",
       "      <td>4523.419580</td>\n",
       "      <td>{'strategy': 'mean'}</td>\n",
       "    </tr>\n",
       "    <tr>\n",
       "      <td>0</td>\n",
       "      <td>LinearRegression</td>\n",
       "      <td>5.593152</td>\n",
       "      <td>0.121256</td>\n",
       "      <td>3348.484177</td>\n",
       "      <td>3345.900692</td>\n",
       "      <td>{'fit_intercept': 'True', 'normalize': 'False'}</td>\n",
       "    </tr>\n",
       "    <tr>\n",
       "      <td>0</td>\n",
       "      <td>DecisionTreeRegressor</td>\n",
       "      <td>1.894023</td>\n",
       "      <td>0.045915</td>\n",
       "      <td>2664.694988</td>\n",
       "      <td>2958.970564</td>\n",
       "      <td>{'max_depth': 10, 'random_state': 12345}</td>\n",
       "    </tr>\n",
       "  </tbody>\n",
       "</table>\n",
       "</div>"
      ],
      "text/plain": [
       "                   model  train_time  predict_time         rmse  rmse_on_test  \\\n",
       "0          LGBMRegressor   12.301873      0.710386  2345.600139   2819.554810   \n",
       "0         DummyRegressor    0.000545      0.000346  4511.068184   4523.419580   \n",
       "0       LinearRegression    5.593152      0.121256  3348.484177   3345.900692   \n",
       "0  DecisionTreeRegressor    1.894023      0.045915  2664.694988   2958.970564   \n",
       "\n",
       "                                            params  \n",
       "0    {'learning_rate': 0.4, 'random_state': 12345}  \n",
       "0                             {'strategy': 'mean'}  \n",
       "0  {'fit_intercept': 'True', 'normalize': 'False'}  \n",
       "0         {'max_depth': 10, 'random_state': 12345}  "
      ]
     },
     "execution_count": 125,
     "metadata": {},
     "output_type": "execute_result"
    }
   ],
   "source": [
    "grid_report"
   ]
  },
  {
   "cell_type": "markdown",
   "metadata": {},
   "source": [
    "## Анализ моделей"
   ]
  },
  {
   "cell_type": "code",
   "execution_count": 126,
   "metadata": {},
   "outputs": [],
   "source": [
    "grid_report.reset_index(drop=True, inplace=True)"
   ]
  },
  {
   "cell_type": "markdown",
   "metadata": {},
   "source": [
    "### Качество на обучающей выборки "
   ]
  },
  {
   "cell_type": "code",
   "execution_count": 127,
   "metadata": {},
   "outputs": [
    {
     "data": {
      "text/html": [
       "<div>\n",
       "<style scoped>\n",
       "    .dataframe tbody tr th:only-of-type {\n",
       "        vertical-align: middle;\n",
       "    }\n",
       "\n",
       "    .dataframe tbody tr th {\n",
       "        vertical-align: top;\n",
       "    }\n",
       "\n",
       "    .dataframe thead th {\n",
       "        text-align: right;\n",
       "    }\n",
       "</style>\n",
       "<table border=\"1\" class=\"dataframe\">\n",
       "  <thead>\n",
       "    <tr style=\"text-align: right;\">\n",
       "      <th></th>\n",
       "      <th>model</th>\n",
       "      <th>train_time</th>\n",
       "      <th>predict_time</th>\n",
       "      <th>rmse</th>\n",
       "      <th>rmse_on_test</th>\n",
       "      <th>params</th>\n",
       "    </tr>\n",
       "  </thead>\n",
       "  <tbody>\n",
       "    <tr>\n",
       "      <td>0</td>\n",
       "      <td>LGBMRegressor</td>\n",
       "      <td>12.301873</td>\n",
       "      <td>0.710386</td>\n",
       "      <td>2345.600139</td>\n",
       "      <td>2819.554810</td>\n",
       "      <td>{'learning_rate': 0.4, 'random_state': 12345}</td>\n",
       "    </tr>\n",
       "    <tr>\n",
       "      <td>3</td>\n",
       "      <td>DecisionTreeRegressor</td>\n",
       "      <td>1.894023</td>\n",
       "      <td>0.045915</td>\n",
       "      <td>2664.694988</td>\n",
       "      <td>2958.970564</td>\n",
       "      <td>{'max_depth': 10, 'random_state': 12345}</td>\n",
       "    </tr>\n",
       "    <tr>\n",
       "      <td>2</td>\n",
       "      <td>LinearRegression</td>\n",
       "      <td>5.593152</td>\n",
       "      <td>0.121256</td>\n",
       "      <td>3348.484177</td>\n",
       "      <td>3345.900692</td>\n",
       "      <td>{'fit_intercept': 'True', 'normalize': 'False'}</td>\n",
       "    </tr>\n",
       "    <tr>\n",
       "      <td>1</td>\n",
       "      <td>DummyRegressor</td>\n",
       "      <td>0.000545</td>\n",
       "      <td>0.000346</td>\n",
       "      <td>4511.068184</td>\n",
       "      <td>4523.419580</td>\n",
       "      <td>{'strategy': 'mean'}</td>\n",
       "    </tr>\n",
       "  </tbody>\n",
       "</table>\n",
       "</div>"
      ],
      "text/plain": [
       "                   model  train_time  predict_time         rmse  rmse_on_test  \\\n",
       "0          LGBMRegressor   12.301873      0.710386  2345.600139   2819.554810   \n",
       "3  DecisionTreeRegressor    1.894023      0.045915  2664.694988   2958.970564   \n",
       "2       LinearRegression    5.593152      0.121256  3348.484177   3345.900692   \n",
       "1         DummyRegressor    0.000545      0.000346  4511.068184   4523.419580   \n",
       "\n",
       "                                            params  \n",
       "0    {'learning_rate': 0.4, 'random_state': 12345}  \n",
       "3         {'max_depth': 10, 'random_state': 12345}  \n",
       "2  {'fit_intercept': 'True', 'normalize': 'False'}  \n",
       "1                             {'strategy': 'mean'}  "
      ]
     },
     "execution_count": 127,
     "metadata": {},
     "output_type": "execute_result"
    }
   ],
   "source": [
    "grid_report.sort_values('rmse')"
   ]
  },
  {
   "cell_type": "markdown",
   "metadata": {},
   "source": [
    "### Качество на тестовой  выборки "
   ]
  },
  {
   "cell_type": "code",
   "execution_count": 128,
   "metadata": {},
   "outputs": [
    {
     "data": {
      "text/html": [
       "<div>\n",
       "<style scoped>\n",
       "    .dataframe tbody tr th:only-of-type {\n",
       "        vertical-align: middle;\n",
       "    }\n",
       "\n",
       "    .dataframe tbody tr th {\n",
       "        vertical-align: top;\n",
       "    }\n",
       "\n",
       "    .dataframe thead th {\n",
       "        text-align: right;\n",
       "    }\n",
       "</style>\n",
       "<table border=\"1\" class=\"dataframe\">\n",
       "  <thead>\n",
       "    <tr style=\"text-align: right;\">\n",
       "      <th></th>\n",
       "      <th>model</th>\n",
       "      <th>train_time</th>\n",
       "      <th>predict_time</th>\n",
       "      <th>rmse</th>\n",
       "      <th>rmse_on_test</th>\n",
       "      <th>params</th>\n",
       "    </tr>\n",
       "  </thead>\n",
       "  <tbody>\n",
       "    <tr>\n",
       "      <td>0</td>\n",
       "      <td>LGBMRegressor</td>\n",
       "      <td>12.301873</td>\n",
       "      <td>0.710386</td>\n",
       "      <td>2345.600139</td>\n",
       "      <td>2819.554810</td>\n",
       "      <td>{'learning_rate': 0.4, 'random_state': 12345}</td>\n",
       "    </tr>\n",
       "    <tr>\n",
       "      <td>3</td>\n",
       "      <td>DecisionTreeRegressor</td>\n",
       "      <td>1.894023</td>\n",
       "      <td>0.045915</td>\n",
       "      <td>2664.694988</td>\n",
       "      <td>2958.970564</td>\n",
       "      <td>{'max_depth': 10, 'random_state': 12345}</td>\n",
       "    </tr>\n",
       "    <tr>\n",
       "      <td>2</td>\n",
       "      <td>LinearRegression</td>\n",
       "      <td>5.593152</td>\n",
       "      <td>0.121256</td>\n",
       "      <td>3348.484177</td>\n",
       "      <td>3345.900692</td>\n",
       "      <td>{'fit_intercept': 'True', 'normalize': 'False'}</td>\n",
       "    </tr>\n",
       "    <tr>\n",
       "      <td>1</td>\n",
       "      <td>DummyRegressor</td>\n",
       "      <td>0.000545</td>\n",
       "      <td>0.000346</td>\n",
       "      <td>4511.068184</td>\n",
       "      <td>4523.419580</td>\n",
       "      <td>{'strategy': 'mean'}</td>\n",
       "    </tr>\n",
       "  </tbody>\n",
       "</table>\n",
       "</div>"
      ],
      "text/plain": [
       "                   model  train_time  predict_time         rmse  rmse_on_test  \\\n",
       "0          LGBMRegressor   12.301873      0.710386  2345.600139   2819.554810   \n",
       "3  DecisionTreeRegressor    1.894023      0.045915  2664.694988   2958.970564   \n",
       "2       LinearRegression    5.593152      0.121256  3348.484177   3345.900692   \n",
       "1         DummyRegressor    0.000545      0.000346  4511.068184   4523.419580   \n",
       "\n",
       "                                            params  \n",
       "0    {'learning_rate': 0.4, 'random_state': 12345}  \n",
       "3         {'max_depth': 10, 'random_state': 12345}  \n",
       "2  {'fit_intercept': 'True', 'normalize': 'False'}  \n",
       "1                             {'strategy': 'mean'}  "
      ]
     },
     "execution_count": 128,
     "metadata": {},
     "output_type": "execute_result"
    }
   ],
   "source": [
    "grid_report.sort_values('rmse_on_test')"
   ]
  },
  {
   "cell_type": "markdown",
   "metadata": {},
   "source": [
    "### Время обучения "
   ]
  },
  {
   "cell_type": "code",
   "execution_count": 129,
   "metadata": {},
   "outputs": [
    {
     "data": {
      "text/html": [
       "<div>\n",
       "<style scoped>\n",
       "    .dataframe tbody tr th:only-of-type {\n",
       "        vertical-align: middle;\n",
       "    }\n",
       "\n",
       "    .dataframe tbody tr th {\n",
       "        vertical-align: top;\n",
       "    }\n",
       "\n",
       "    .dataframe thead th {\n",
       "        text-align: right;\n",
       "    }\n",
       "</style>\n",
       "<table border=\"1\" class=\"dataframe\">\n",
       "  <thead>\n",
       "    <tr style=\"text-align: right;\">\n",
       "      <th></th>\n",
       "      <th>model</th>\n",
       "      <th>train_time</th>\n",
       "      <th>predict_time</th>\n",
       "      <th>rmse</th>\n",
       "      <th>rmse_on_test</th>\n",
       "      <th>params</th>\n",
       "    </tr>\n",
       "  </thead>\n",
       "  <tbody>\n",
       "    <tr>\n",
       "      <td>1</td>\n",
       "      <td>DummyRegressor</td>\n",
       "      <td>0.000545</td>\n",
       "      <td>0.000346</td>\n",
       "      <td>4511.068184</td>\n",
       "      <td>4523.419580</td>\n",
       "      <td>{'strategy': 'mean'}</td>\n",
       "    </tr>\n",
       "    <tr>\n",
       "      <td>3</td>\n",
       "      <td>DecisionTreeRegressor</td>\n",
       "      <td>1.894023</td>\n",
       "      <td>0.045915</td>\n",
       "      <td>2664.694988</td>\n",
       "      <td>2958.970564</td>\n",
       "      <td>{'max_depth': 10, 'random_state': 12345}</td>\n",
       "    </tr>\n",
       "    <tr>\n",
       "      <td>2</td>\n",
       "      <td>LinearRegression</td>\n",
       "      <td>5.593152</td>\n",
       "      <td>0.121256</td>\n",
       "      <td>3348.484177</td>\n",
       "      <td>3345.900692</td>\n",
       "      <td>{'fit_intercept': 'True', 'normalize': 'False'}</td>\n",
       "    </tr>\n",
       "    <tr>\n",
       "      <td>0</td>\n",
       "      <td>LGBMRegressor</td>\n",
       "      <td>12.301873</td>\n",
       "      <td>0.710386</td>\n",
       "      <td>2345.600139</td>\n",
       "      <td>2819.554810</td>\n",
       "      <td>{'learning_rate': 0.4, 'random_state': 12345}</td>\n",
       "    </tr>\n",
       "  </tbody>\n",
       "</table>\n",
       "</div>"
      ],
      "text/plain": [
       "                   model  train_time  predict_time         rmse  rmse_on_test  \\\n",
       "1         DummyRegressor    0.000545      0.000346  4511.068184   4523.419580   \n",
       "3  DecisionTreeRegressor    1.894023      0.045915  2664.694988   2958.970564   \n",
       "2       LinearRegression    5.593152      0.121256  3348.484177   3345.900692   \n",
       "0          LGBMRegressor   12.301873      0.710386  2345.600139   2819.554810   \n",
       "\n",
       "                                            params  \n",
       "1                             {'strategy': 'mean'}  \n",
       "3         {'max_depth': 10, 'random_state': 12345}  \n",
       "2  {'fit_intercept': 'True', 'normalize': 'False'}  \n",
       "0    {'learning_rate': 0.4, 'random_state': 12345}  "
      ]
     },
     "execution_count": 129,
     "metadata": {},
     "output_type": "execute_result"
    }
   ],
   "source": [
    "grid_report.sort_values('train_time')"
   ]
  },
  {
   "cell_type": "markdown",
   "metadata": {},
   "source": [
    "### Время предсказания  "
   ]
  },
  {
   "cell_type": "code",
   "execution_count": 130,
   "metadata": {},
   "outputs": [
    {
     "data": {
      "text/html": [
       "<div>\n",
       "<style scoped>\n",
       "    .dataframe tbody tr th:only-of-type {\n",
       "        vertical-align: middle;\n",
       "    }\n",
       "\n",
       "    .dataframe tbody tr th {\n",
       "        vertical-align: top;\n",
       "    }\n",
       "\n",
       "    .dataframe thead th {\n",
       "        text-align: right;\n",
       "    }\n",
       "</style>\n",
       "<table border=\"1\" class=\"dataframe\">\n",
       "  <thead>\n",
       "    <tr style=\"text-align: right;\">\n",
       "      <th></th>\n",
       "      <th>model</th>\n",
       "      <th>train_time</th>\n",
       "      <th>predict_time</th>\n",
       "      <th>rmse</th>\n",
       "      <th>rmse_on_test</th>\n",
       "      <th>params</th>\n",
       "    </tr>\n",
       "  </thead>\n",
       "  <tbody>\n",
       "    <tr>\n",
       "      <td>1</td>\n",
       "      <td>DummyRegressor</td>\n",
       "      <td>0.000545</td>\n",
       "      <td>0.000346</td>\n",
       "      <td>4511.068184</td>\n",
       "      <td>4523.419580</td>\n",
       "      <td>{'strategy': 'mean'}</td>\n",
       "    </tr>\n",
       "    <tr>\n",
       "      <td>3</td>\n",
       "      <td>DecisionTreeRegressor</td>\n",
       "      <td>1.894023</td>\n",
       "      <td>0.045915</td>\n",
       "      <td>2664.694988</td>\n",
       "      <td>2958.970564</td>\n",
       "      <td>{'max_depth': 10, 'random_state': 12345}</td>\n",
       "    </tr>\n",
       "    <tr>\n",
       "      <td>2</td>\n",
       "      <td>LinearRegression</td>\n",
       "      <td>5.593152</td>\n",
       "      <td>0.121256</td>\n",
       "      <td>3348.484177</td>\n",
       "      <td>3345.900692</td>\n",
       "      <td>{'fit_intercept': 'True', 'normalize': 'False'}</td>\n",
       "    </tr>\n",
       "    <tr>\n",
       "      <td>0</td>\n",
       "      <td>LGBMRegressor</td>\n",
       "      <td>12.301873</td>\n",
       "      <td>0.710386</td>\n",
       "      <td>2345.600139</td>\n",
       "      <td>2819.554810</td>\n",
       "      <td>{'learning_rate': 0.4, 'random_state': 12345}</td>\n",
       "    </tr>\n",
       "  </tbody>\n",
       "</table>\n",
       "</div>"
      ],
      "text/plain": [
       "                   model  train_time  predict_time         rmse  rmse_on_test  \\\n",
       "1         DummyRegressor    0.000545      0.000346  4511.068184   4523.419580   \n",
       "3  DecisionTreeRegressor    1.894023      0.045915  2664.694988   2958.970564   \n",
       "2       LinearRegression    5.593152      0.121256  3348.484177   3345.900692   \n",
       "0          LGBMRegressor   12.301873      0.710386  2345.600139   2819.554810   \n",
       "\n",
       "                                            params  \n",
       "1                             {'strategy': 'mean'}  \n",
       "3         {'max_depth': 10, 'random_state': 12345}  \n",
       "2  {'fit_intercept': 'True', 'normalize': 'False'}  \n",
       "0    {'learning_rate': 0.4, 'random_state': 12345}  "
      ]
     },
     "execution_count": 130,
     "metadata": {},
     "output_type": "execute_result"
    }
   ],
   "source": [
    "grid_report.sort_values('predict_time')"
   ]
  },
  {
   "cell_type": "markdown",
   "metadata": {},
   "source": [
    "## Заключение "
   ]
  },
  {
   "cell_type": "markdown",
   "metadata": {},
   "source": [
    "Как на тестовой выборки так и по кросс-валидация победил градиентный бустинг. Его ошибка на тестовой выборки составляет 2302.911603 евро, а  по кросс-валидация 2308.980276 евро, соответственно. Однако, эта модель учиться и предсказывает медленней всех (обучение 2.337584, предсказание 0.421447). Возможно, заказчик предпочтет более быструю модель решающего дерева (обучение 1.401853, предсказание 0.026315) при относительно небольшой потери качества (на тестовой выборки 2673.375616, по кросс-валидация 2667.058149 )"
   ]
  },
  {
   "cell_type": "markdown",
   "metadata": {},
   "source": [
    "## Чек-лист проверки"
   ]
  },
  {
   "cell_type": "markdown",
   "metadata": {},
   "source": [
    "Поставьте 'x' в выполненных пунктах. Далее нажмите Shift+Enter."
   ]
  },
  {
   "cell_type": "markdown",
   "metadata": {},
   "source": [
    "- [x]  Jupyter Notebook открыт\n",
    "- [x]  Весь код выполняется без ошибок\n",
    "- [x]  Ячейки с кодом расположены в порядке исполнения\n",
    "- [x]  Выполнена загрузка и подготовка данных\n",
    "- [x]  Выполнено обучение моделей\n",
    "- [x]  Есть анализ скорости работы и качества моделей"
   ]
  }
 ],
 "metadata": {
  "kernelspec": {
   "display_name": "Python 3",
   "language": "python",
   "name": "python3"
  },
  "language_info": {
   "codemirror_mode": {
    "name": "ipython",
    "version": 3
   },
   "file_extension": ".py",
   "mimetype": "text/x-python",
   "name": "python",
   "nbconvert_exporter": "python",
   "pygments_lexer": "ipython3",
   "version": "3.8.5"
  },
  "toc": {
   "base_numbering": 1,
   "nav_menu": {},
   "number_sections": true,
   "sideBar": true,
   "skip_h1_title": true,
   "title_cell": "Содержание",
   "title_sidebar": "Contents",
   "toc_cell": true,
   "toc_position": {},
   "toc_section_display": true,
   "toc_window_display": false
  }
 },
 "nbformat": 4,
 "nbformat_minor": 4
}
